{
 "cells": [
  {
   "cell_type": "markdown",
   "metadata": {},
   "source": [
    "# Association between stroke and psychosis across four nationally representative epidemiological studies"
   ]
  },
  {
   "cell_type": "markdown",
   "metadata": {},
   "source": [
    "This is the analysis code for the above named paper with embedded results. This is a Jupyter notebook which can be re-run to reproduce the same results when accompanied by the same data"
   ]
  },
  {
   "cell_type": "code",
   "execution_count": 42,
   "metadata": {},
   "outputs": [],
   "source": [
    "# Load R packages\n",
    "library(dplyr)\n",
    "library(foreign)\n",
    "library(jtools)\n",
    "library(table1)\n",
    "library(epiR)\n",
    "library(lme4)\n",
    "library(IRdisplay)"
   ]
  },
  {
   "cell_type": "code",
   "execution_count": 2,
   "metadata": {},
   "outputs": [],
   "source": [
    "options(warn=-1)"
   ]
  },
  {
   "cell_type": "markdown",
   "metadata": {},
   "source": [
    "## Loading and recoding of national datasets"
   ]
  },
  {
   "cell_type": "markdown",
   "metadata": {},
   "source": [
    "### Adult Psychiatric Morbidity Survey 2007 (England, United Kingdom)"
   ]
  },
  {
   "cell_type": "code",
   "execution_count": 3,
   "metadata": {},
   "outputs": [],
   "source": [
    "# Load data\n",
    "#\n",
    "spssfile <- \"./Data/apms2007/apms07arch.sav\" \n",
    "apms_complete <- read.spss(spssfile, to.data.frame = TRUE, use.value.labels = FALSE)\n",
    "\n",
    "# Select variables\n",
    "#\n",
    "dataset_apms <- select(apms_complete, \n",
    "                  age = ResAge, sex = ResSex,\n",
    "                  paranoia = PSQ3a, # Felt that people were directly acting to harm you / your interests\n",
    "                  hearvoices = PSQ5a,  # Heard voices saying quite a few words of sentences\n",
    "                  thoughtpass = PSQ2a,  # Ever felt thoughts were directly interfered with by some outside force or person in past year\n",
    "                  stroke = HDoct9, # by medic\n",
    "                  highest_ed = EDQUAL5,\n",
    "                  sample_weight = wt_ints1)\n",
    "\n",
    "# Label dataset\n",
    "#\n",
    "dataset_apms$dataset_name <- 'apms'\n",
    "\n",
    "# Recode stroke variable\n",
    "#\n",
    "dataset_apms$stroke[dataset_apms$stroke==1] <- 1  # Yes\n",
    "dataset_apms$stroke[dataset_apms$stroke==2] <- 0  # No\n",
    "dataset_apms$stroke[is.na(dataset_apms$stroke)] <- 0  # No evidence\n",
    "dataset_apms$stroke <- factor(dataset_apms$stroke, levels = c(1,0), labels = c(\" yes\", \" no\")) \n",
    "\n",
    "# Recode psychotic symptom variables\n",
    "#\n",
    "dataset_apms$paranoia[dataset_apms$paranoia==3] <- 0  # unsure = no\n",
    "dataset_apms$paranoia[dataset_apms$paranoia==1] <- 1  # Yes\n",
    "dataset_apms$paranoia[dataset_apms$paranoia==2] <- 0  # No\n",
    "dataset_apms$paranoia[is.na(dataset_apms$paranoia)] <- 0  # No evidence\n",
    "\n",
    "dataset_apms$hearvoices[dataset_apms$hearvoices==3] <- 0    # unsure = no\n",
    "dataset_apms$hearvoices[dataset_apms$hearvoices==1] <- 1    # Yes\n",
    "dataset_apms$hearvoices[dataset_apms$hearvoices==2] <- 0    # No\n",
    "dataset_apms$hearvoices[is.na(dataset_apms$hearvoices)] <- 0  # No evidence\n",
    "\n",
    "dataset_apms$thoughtpass[dataset_apms$thoughtpass==3] <- 0  # unsure = no\n",
    "dataset_apms$thoughtpass[dataset_apms$thoughtpass==1] <- 1  # Yes\n",
    "dataset_apms$thoughtpass[dataset_apms$thoughtpass==2] <- 0  # No\n",
    "dataset_apms$thoughtpass[is.na(dataset_apms$thoughtpass)] <- 0  # No evidence\n",
    "\n",
    "# Calculate probable psychosis variable\n",
    "#\n",
    "dataset_apms$psychosis_tot <- rowSums(dataset_apms[,c(\"paranoia\", \"hearvoices\", \"thoughtpass\")], na.rm=TRUE)\n",
    "dataset_apms$prob_psychosis[dataset_apms$psychosis_tot >= 2] <- 1\n",
    "dataset_apms$prob_psychosis[dataset_apms$psychosis_tot <= 1] <- 0\n",
    "dataset_apms$psychosis_tot <- NULL\n",
    "\n",
    "# Set types for psychosis variables\n",
    "#\n",
    "dataset_apms$paranoia <- factor(dataset_apms$paranoia, levels = c(1,0), labels = c(\" yes\", \" no\")) \n",
    "dataset_apms$hearvoices <- factor(dataset_apms$hearvoices, levels = c(1,0), labels = c(\" yes\", \" no\")) \n",
    "dataset_apms$thoughtpass <- factor(dataset_apms$thoughtpass, levels = c(1,0), labels = c(\" yes\", \" no\")) \n",
    "dataset_apms$prob_psychosis <- factor(dataset_apms$prob_psychosis, levels = c(1,0), labels = c(\" yes\", \" no\")) \n",
    "\n",
    "# Recode and set variable type for highest level of education\n",
    "#\n",
    "dataset_apms <- dataset_apms %>%\n",
    "  mutate(highest_ed = recode(highest_ed,\n",
    "                              `1` = 4,  # College / uni\n",
    "                              `2` = 4,  # College / uni\n",
    "                              `3` = 3,  # Late teen high school\n",
    "                              `4` = 2,  # Mid teen high school\n",
    "                              `5` = 2,  # \"Foreign / other\" coded as Mid teen high school\n",
    "                              `6` = 1)) # No or primary education\n",
    "\n",
    "dataset_apms$highest_ed <- factor(dataset_apms$highest_ed,\n",
    "                                      levels = c(1, 2, 3, 4),\n",
    "                                      labels = c(\"No / primary education\", \"Mid-teen high school\", \"Late teen high school\", \"College / university\")) \n",
    "\n",
    "# Set variable type for sex\n",
    "#\n",
    "dataset_apms$sex <- factor(dataset_apms$sex, levels = c(1,2), labels = c(\" male\", \" female\")) \n",
    "\n",
    "# Give variables formatted variable names for table\n",
    "#\n",
    "label(dataset_apms$sex) <- \"Sex\"\n",
    "label(dataset_apms$age) <- \"Age\"\n",
    "label(dataset_apms$highest_ed) <- \"Highest level of education\"\n",
    "label(dataset_apms$stroke) <- \"Stroke\"\n",
    "label(dataset_apms$prob_psychosis) <- \"Prob.Psychosis\"\n",
    "\n",
    "# Remove intermediary memory objects\n",
    "#\n",
    "rm(apms_complete)"
   ]
  },
  {
   "cell_type": "markdown",
   "metadata": {},
   "source": [
    "### Collaborative Psychiatric Epidemiology Surveys 2001-2003 (United States)"
   ]
  },
  {
   "cell_type": "code",
   "execution_count": 4,
   "metadata": {},
   "outputs": [],
   "source": [
    "# Load data\n",
    "#\n",
    "d1_filename <- \"./Data/ICPSR_20240/DS0001/20240-0001-Data.tsv\"\n",
    "d3_filename <- \"./Data/ICPSR_20240/DS0003/20240-0003-Data.tsv\"\n",
    "\n",
    "d1_df <- read.csv(d1_filename, sep=\"\\t\", header=T)\n",
    "d3_df <- read.csv(d3_filename, sep=\"\\t\", header=T)\n",
    "\n",
    "# Select variables\n",
    "#\n",
    "d1_select_df <- select(d1_df, \n",
    "                       caseid = CASEID, \n",
    "                       sex = V09036,\n",
    "                       age = V07306)\n",
    "\n",
    "d3_select_df <- select(d3_df, \n",
    "                       caseid = CASEID,\n",
    "                       stroke = C10H,  # by medic\n",
    "                       highest_ed = H13,\n",
    "                       paranoia = PS1F, # Unjust plot to harm you/have people follow-nobody believe\n",
    "                       hearvoices = PS1B,  # Ever hear voices others couldn't hear\n",
    "                       thoughtpass = PS1C) # Ever have mind control experience\n",
    "\n",
    "# Merge datasets \n",
    "#\n",
    "dataset_cpes <- merge(d1_select_df, d3_select_df, by=\"caseid\")\n",
    "\n",
    "# Label dataset\n",
    "#\n",
    "dataset_cpes$dataset_name <- 'cpes'\n",
    "\n",
    "# Recode stroke variable\n",
    "#\n",
    "dataset_cpes$stroke[dataset_cpes$stroke == 1 ] <- 1\n",
    "dataset_cpes$stroke[dataset_cpes$stroke == 5 ] <- 0\n",
    "dataset_cpes$stroke[dataset_cpes$stroke == -8 ] <- 0\n",
    "dataset_cpes$stroke[dataset_cpes$stroke == -9 ] <- 0\n",
    "dataset_cpes$stroke <- factor(dataset_cpes$stroke, levels = c(1,0), labels = c(\" yes\", \" no\")) \n",
    "\n",
    "# Recode psychotic symptom variables\n",
    "#\n",
    "# Note: NAs replaced by zeros because random forest imputation imputed all NAs as zeros.\n",
    "# See Bell_et_al_StrokePsychosis_Imputation.ipynb for code\n",
    "#\n",
    "dataset_cpes$paranoia[dataset_cpes$paranoia == 1 ] <- 1\n",
    "dataset_cpes$paranoia[dataset_cpes$paranoia == 5 ] <- 0\n",
    "dataset_cpes$paranoia[dataset_cpes$paranoia == -8 ] <- 0\n",
    "dataset_cpes$paranoia[dataset_cpes$paranoia == -9 ] <- 0\n",
    "\n",
    "dataset_cpes$hearvoices[dataset_cpes$hearvoices == 1 ] <- 1\n",
    "dataset_cpes$hearvoices[dataset_cpes$hearvoices == 5 ] <- 0\n",
    "dataset_cpes$hearvoices[dataset_cpes$hearvoices == -8 ] <- 0\n",
    "dataset_cpes$hearvoices[dataset_cpes$hearvoices == -9 ] <- 0\n",
    "\n",
    "dataset_cpes$thoughtpass[dataset_cpes$thoughtpass == 1 ] <- 1\n",
    "dataset_cpes$thoughtpass[dataset_cpes$thoughtpass == 5 ] <- 0\n",
    "dataset_cpes$thoughtpass[dataset_cpes$thoughtpass == -8 ] <- 0\n",
    "dataset_cpes$thoughtpass[dataset_cpes$thoughtpass == -9 ] <- 0\n",
    "\n",
    "# Calculate probable psychosis variable\n",
    "#\n",
    "dataset_cpes$psychosis_tot <- rowSums(dataset_cpes[,c(\"paranoia\", \"hearvoices\", \"thoughtpass\")], na.rm=TRUE)\n",
    "dataset_cpes$prob_psychosis[dataset_cpes$psychosis_tot >= 2] <- 1\n",
    "dataset_cpes$prob_psychosis[dataset_cpes$psychosis_tot <= 1] <- 0\n",
    "dataset_cpes$psychosis_tot <- NULL\n",
    "\n",
    "# Set types for psychosis variables\n",
    "#\n",
    "dataset_cpes$paranoia <- factor(dataset_cpes$paranoia, levels = c(1,0), labels = c(\" yes\", \" no\")) \n",
    "dataset_cpes$hearvoices <- factor(dataset_cpes$hearvoices, levels = c(1,0), labels = c(\" yes\", \" no\")) \n",
    "dataset_cpes$thoughtpass <- factor(dataset_cpes$thoughtpass, levels = c(1,0), labels = c(\" yes\", \" no\")) \n",
    "dataset_cpes$prob_psychosis <- factor(dataset_cpes$prob_psychosis, levels = c(1,0), labels = c(\" yes\", \" no\")) \n",
    "\n",
    "# Recode and set variable type for highest level of education\n",
    "#\n",
    "dataset_cpes$highest_ed[dataset_cpes$highest_ed <= 9] <- 1 # Basic\n",
    "dataset_cpes$highest_ed[dataset_cpes$highest_ed==10] <- 2  # Mid teen high school\n",
    "dataset_cpes$highest_ed[dataset_cpes$highest_ed==11] <- 2  # Mid teen high school\n",
    "dataset_cpes$highest_ed[dataset_cpes$highest_ed==12] <- 3  # Late teen high school\n",
    "dataset_cpes$highest_ed[dataset_cpes$highest_ed==13] <- 3  # Late teen high school \n",
    "dataset_cpes$highest_ed[dataset_cpes$highest_ed==14] <- 3  # Late teen high school \n",
    "dataset_cpes$highest_ed[dataset_cpes$highest_ed==15] <- 3  # Late teen high school \n",
    "dataset_cpes$highest_ed[dataset_cpes$highest_ed==16] <- 4  # College / uni\n",
    "dataset_cpes$highest_ed[dataset_cpes$highest_ed==17] <- 4  # College / uni\n",
    "\n",
    "dataset_cpes$highest_ed <- factor(dataset_cpes$highest_ed,\n",
    "                                  levels = c(1, 2, 3, 4),\n",
    "                                  labels = c(\"No / primary education\", \"Mid-teen high school\", \"Late teen high school\", \"College / university\")) \n",
    "\n",
    "# Set variable type for sex\n",
    "#\n",
    "dataset_cpes$sex <- factor(dataset_cpes$sex,\n",
    "                           levels = c(1,2),\n",
    "                           labels = c(\" male\", \" female\")) \n",
    "\n",
    "# Give variables formatted variable names for table\n",
    "#\n",
    "label(dataset_cpes$sex) <- \"Sex\"\n",
    "label(dataset_cpes$age) <- \"Age\"\n",
    "label(dataset_cpes$highest_ed) <- \"Highest level of education\"\n",
    "label(dataset_cpes$stroke) <- \"Stroke\"\n",
    "label(dataset_cpes$prob_psychosis) <- \"Prob.Psychosis\"\n",
    "\n",
    "# Remove intermediary memory objects\n",
    "#\n",
    "rm(d1_df, d3_df, d1_select_df, d3_select_df)"
   ]
  },
  {
   "cell_type": "markdown",
   "metadata": {},
   "source": [
    "### National Mental Health Survey 2015 (Colombia)"
   ]
  },
  {
   "cell_type": "code",
   "execution_count": 5,
   "metadata": {},
   "outputs": [],
   "source": [
    "# Load data\n",
    "#\n",
    "personas_datafile = \"./Data/ensm2015/Personas.txt\"\n",
    "personas_df <- read.csv(personas_datafile, header = TRUE, sep='|', stringsAsFactors = FALSE, na.strings=c(\"NULL\",\"900\",\"950\"))\n",
    "\n",
    "adultos1_datafile = \"./Data/ensm2015/Adultos_I.txt\"\n",
    "adultos1_df <- read.csv(adultos1_datafile, header = TRUE, sep='|', stringsAsFactors = FALSE, na.strings=c(\"NULL\",\"900\",\"950\"))\n",
    "\n",
    "adultos2_datafile = \"./Data/ensm2015/Adultos_II.txt\"\n",
    "adultos2_df <- read.csv(adultos2_datafile, header = TRUE, sep='|', stringsAsFactors = FALSE, na.strings=c(\"NULL\",\"900\",\"950\"))\n",
    "\n",
    "# Merge datasets\n",
    "#\n",
    "merged_df <- merge(personas_df, adultos1_df, by=\"identificador_persona\")\n",
    "merged_df <- merge(merged_df, adultos2_df, by=\"identificador_persona\")\n",
    "\n",
    "# Select variables\n",
    "#\n",
    "dataset_ensm <- select(merged_df, \n",
    "                       identificador_persona,\n",
    "                       age = age.x,\n",
    "                       sex = sex.x,\n",
    "                       paranoia = m7_p21,  # ¿Siente que alguien ha tratado de herirlo en alguna forma?\n",
    "                       hearvoices = m7_p24,   # ¿Oye voces sin saber de dónde vienen o que otras personas no pueden oír?\n",
    "                       thoughtpass = m7_p23,  # ¿Ha notado interferencias o algo raro en su pensamiento?\n",
    "                       highest_ed = NivelEducativo.x,\n",
    "                       stroke = m5_p38)\n",
    "\n",
    "# Label dataset\n",
    "#\n",
    "dataset_ensm$dataset_name <- 'ensm'\n",
    "\n",
    "# Recode stroke variable\n",
    "#\n",
    "dataset_ensm$stroke[dataset_ensm$stroke==2] <- 0\n",
    "dataset_ensm$stroke <- factor(dataset_ensm$stroke, levels = c(1,0), labels = c(\" yes\", \" no\")) \n",
    "\n",
    "# Recode psychotic symptom variables\n",
    "#\n",
    "dataset_ensm$paranoia[dataset_ensm$paranoia==2] <- 0\n",
    "dataset_ensm$hearvoices[dataset_ensm$hearvoices==2] <- 0  \n",
    "dataset_ensm$thoughtpass[dataset_ensm$thoughtpass==2] <- 0\n",
    "\n",
    "# Calculate probable psychosis variable\n",
    "#\n",
    "dataset_ensm$psychosis_tot <- rowSums(dataset_ensm[,c(\"paranoia\", \"hearvoices\", \"thoughtpass\")], na.rm=TRUE)\n",
    "dataset_ensm$prob_psychosis[dataset_ensm$psychosis_tot >= 2] <- 1\n",
    "dataset_ensm$prob_psychosis[dataset_ensm$psychosis_tot <= 1] <- 0\n",
    "dataset_ensm$psychosis_tot <- NULL\n",
    "\n",
    "# Set types for psychosis variables\n",
    "#\n",
    "dataset_ensm$paranoia <- factor(dataset_ensm$paranoia, levels = c(1,0), labels = c(\" yes\", \" no\")) \n",
    "dataset_ensm$hearvoices <- factor(dataset_ensm$hearvoices, levels = c(1,0), labels = c(\" yes\", \" no\")) \n",
    "dataset_ensm$thoughtpass <- factor(dataset_ensm$thoughtpass, levels = c(1,0), labels = c(\" yes\", \" no\")) \n",
    "dataset_ensm$prob_psychosis <- factor(dataset_ensm$prob_psychosis, levels = c(1,0), labels = c(\" yes\", \" no\")) \n",
    "\n",
    "# Recode and set variable type for highest level of education\n",
    "#\n",
    "dataset_ensm$highest_ed[dataset_ensm$highest_ed == 1] <- 1 # Basic\n",
    "dataset_ensm$highest_ed[dataset_ensm$highest_ed == 2] <- 2 # Mid teen high school\n",
    "dataset_ensm$highest_ed[dataset_ensm$highest_ed == 3] <- 3 # Late teen high school\n",
    "dataset_ensm$highest_ed[dataset_ensm$highest_ed == 4] <- 4 # College / uni\n",
    "\n",
    "dataset_ensm$highest_ed <- factor(dataset_ensm$highest_ed,\n",
    "                                  levels = c(1, 2, 3, 4),\n",
    "                                  labels = c(\"No / primary education\", \"Mid-teen high school\", \"Late teen high school\", \"College / university\")) \n",
    "\n",
    "# Set variable type for sex\n",
    "#\n",
    "dataset_ensm$sex <- factor(dataset_ensm$sex, levels = c(1,2), labels = c(\" male\", \" female\")) \n",
    "\n",
    "# Give variables formatted variable names for table\n",
    "#\n",
    "label(dataset_ensm$sex) <- \"Sex\"\n",
    "label(dataset_ensm$age) <- \"Age\"\n",
    "label(dataset_ensm$highest_ed) <- \"Highest level of education\"\n",
    "label(dataset_ensm$stroke) <- \"Stroke\"\n",
    "label(dataset_ensm$prob_psychosis) <- \"Prob.Psychosis\"\n",
    "\n",
    "# Remove intermediary memory objects\n",
    "#\n",
    "rm(personas_df, adultos1_df, adultos2_df, merged_df)"
   ]
  },
  {
   "cell_type": "markdown",
   "metadata": {},
   "source": [
    "### National Health Survey 2016-2017 (Chile)"
   ]
  },
  {
   "cell_type": "code",
   "execution_count": 6,
   "metadata": {},
   "outputs": [
    {
     "name": "stderr",
     "output_type": "stream",
     "text": [
      "re-encoding from CP1252\n",
      "\n"
     ]
    }
   ],
   "source": [
    "# Load data\n",
    "#\n",
    "spssfile <- \"./Data/ensc_2016-2017/Base de datos Encuesta Nacional de Salud 2016-2017(ENS).Formulario 1_2_EX.MINSAL_EPI. (2).sav\"\n",
    "ensc_f1_complete <- read.spss(spssfile, to.data.frame = TRUE, use.value.labels = FALSE)\n",
    "\n",
    "spssfile <- \"./Data/ensc_2016-2017/diag_main_v8_spss_11102019.sav\"\n",
    "ensc_dx_complete <- read.spss(spssfile, to.data.frame = TRUE, use.value.labels = FALSE)\n",
    "\n",
    "# Select variables\n",
    "#\n",
    "dataset_ensc_f1 <- select(ensc_f1_complete, \n",
    "                          caseid = IdEncuesta,\n",
    "                          age = Edad,\n",
    "                          sex = Sexo,\n",
    "                          stroke = d4) # by medic\n",
    "\n",
    "dataset_ensc_dx <- select(ensc_dx_complete, \n",
    "                          caseid = IdEncuesta,\n",
    "                          paranoia = PS1f, # ¿Alguna vez pensó que había una conspiración para hacerle daño o perseguirlo y que su familia o amigos no creyeran que esto fuera real?\n",
    "                          hearvoices = PS1b,  # La segunda experiencia es oír voces que otras personas no podían oír. ¿Alguna vez le ha pasado algo como esto? \n",
    "                          thoughtpass = PS1c, # La tercera experiencia tiene que ver con control de la mente. \n",
    "                          highest_ed = NEDU2_MINSAL_1)\n",
    "\n",
    "# Merge datasets\n",
    "#\n",
    "dataset_ensc <- merge(dataset_ensc_f1, dataset_ensc_dx, by=\"caseid\")\n",
    "\n",
    "# Label dataset\n",
    "#\n",
    "dataset_ensc$dataset_name <- 'ensc'\n",
    "\n",
    "# Recode stroke variable\n",
    "#\n",
    "dataset_ensc$stroke[dataset_ensc$stroke == 1 ] <- 1\n",
    "dataset_ensc$stroke[dataset_ensc$stroke == 2 ] <- 0\n",
    "dataset_ensc$stroke <- factor(dataset_ensc$stroke, levels = c(1,0), labels = c(\" yes\", \" no\")) \n",
    "\n",
    "# Recode psychotic symptom variables\n",
    "#\n",
    "dataset_ensc$paranoia[dataset_ensc$paranoia == 1 ] <- 1\n",
    "dataset_ensc$paranoia[dataset_ensc$paranoia == 5 ] <- 0\n",
    "dataset_ensc$paranoia[dataset_ensc$paranoia == 8 ] <- 0\n",
    "dataset_ensc$paranoia[dataset_ensc$paranoia == 9 ] <- 0\n",
    "\n",
    "dataset_ensc$hearvoices[dataset_ensc$hearvoices == 1 ] <- 1\n",
    "dataset_ensc$hearvoices[dataset_ensc$hearvoices == 5 ] <- 0\n",
    "dataset_ensc$hearvoices[dataset_ensc$hearvoices == 8 ] <- 0\n",
    "dataset_ensc$hearvoices[dataset_ensc$hearvoices == 9 ] <- 0\n",
    "\n",
    "dataset_ensc$thoughtpass[dataset_ensc$thoughtpass == 1 ] <- 1\n",
    "dataset_ensc$thoughtpass[dataset_ensc$thoughtpass == 5 ] <- 0\n",
    "dataset_ensc$thoughtpass[dataset_ensc$thoughtpass == 8 ] <- 0\n",
    "dataset_ensc$thoughtpass[dataset_ensc$thoughtpass == 9 ] <- 0\n",
    "\n",
    "# Calculate probable psychosis variable\n",
    "#\n",
    "dataset_ensc$psychosis_tot <- rowSums(dataset_ensc[,c(\"paranoia\", \"hearvoices\", \"thoughtpass\")], na.rm=TRUE)\n",
    "dataset_ensc$prob_psychosis[dataset_ensc$psychosis_tot >= 2] <- 1\n",
    "dataset_ensc$prob_psychosis[dataset_ensc$psychosis_tot <= 1] <- 0\n",
    "dataset_ensc$psychosis_tot <- NULL\n",
    "\n",
    "# Set types for psychosis variables\n",
    "#\n",
    "dataset_ensc$paranoia <- factor(dataset_ensc$paranoia, levels = c(1,0), labels = c(\" yes\", \" no\")) \n",
    "dataset_ensc$hearvoices <- factor(dataset_ensc$hearvoices, levels = c(1,0), labels = c(\" yes\", \" no\")) \n",
    "dataset_ensc$thoughtpass <- factor(dataset_ensc$thoughtpass, levels = c(1,0), labels = c(\" yes\", \" no\")) \n",
    "dataset_ensc$prob_psychosis <- factor(dataset_ensc$prob_psychosis, levels = c(1,0), labels = c(\" yes\", \" no\")) \n",
    "\n",
    "# Recode and set variable type for highest level of education\n",
    "#\n",
    "dataset_ensc$highest_ed[dataset_ensc$highest_ed == 1] <- 1 # Basic\n",
    "dataset_ensc$highest_ed[dataset_ensc$highest_ed == 2] <- 1 # Basic\n",
    "dataset_ensc$highest_ed[dataset_ensc$highest_ed == 3] <- 2 # Mid teen high school\n",
    "dataset_ensc$highest_ed[dataset_ensc$highest_ed == 4] <- 2 # Mid teen high school\n",
    "dataset_ensc$highest_ed[dataset_ensc$highest_ed == 5] <- 3 # Late teen high school\n",
    "dataset_ensc$highest_ed[dataset_ensc$highest_ed == 6] <- 3 # Late teen high school\n",
    "dataset_ensc$highest_ed[dataset_ensc$highest_ed == 7] <- 4 # College / uni\n",
    "dataset_ensc$highest_ed[dataset_ensc$highest_ed == 8] <- 4 # College / uni\n",
    "dataset_ensc$highest_ed[dataset_ensc$highest_ed == 9] <- 4 # College / uni\n",
    "dataset_ensc$highest_ed[dataset_ensc$highest_ed == 10] <- 4 # College / uni\n",
    "\n",
    "dataset_ensc$highest_ed <- factor(dataset_ensc$highest_ed,\n",
    "                                  levels = c(1, 2, 3, 4),\n",
    "                                  labels = c(\"No / primary education\", \"Mid-teen high school\", \"Late teen high school\", \"College / university\")) \n",
    "\n",
    "# Set variable type for sex\n",
    "#\n",
    "dataset_ensc$sex <- factor(dataset_ensc$sex, levels = c(1,2), labels = c(\" male\", \" female\")) \n",
    "\n",
    "# Give variables formatted variable names for table\n",
    "#\n",
    "label(dataset_ensc$sex) <- \"Sex\"\n",
    "label(dataset_ensc$age) <- \"Age\"\n",
    "label(dataset_ensc$highest_ed) <- \"Highest level of education\"\n",
    "label(dataset_ensc$stroke) <- \"Stroke\"\n",
    "label(dataset_ensc$prob_psychosis) <- \"Prob.Psychosis\"\n",
    "\n",
    "# Remove intermediary memory objects\n",
    "#\n",
    "rm(ensc_f1_complete, ensc_dx_complete, dataset_ensc_f1, dataset_ensc_dx)"
   ]
  },
  {
   "cell_type": "markdown",
   "metadata": {},
   "source": [
    "### Create combined countries dataset"
   ]
  },
  {
   "cell_type": "code",
   "execution_count": 7,
   "metadata": {},
   "outputs": [],
   "source": [
    "# Select relevant variables from each national dataset\n",
    "#\n",
    "subset_apms <- select(dataset_apms,\n",
    "                      dataset_name,\n",
    "                      sex, age,\n",
    "                      stroke, prob_psychosis, \n",
    "                      paranoia, hearvoices, thoughtpass,\n",
    "                      highest_ed)\n",
    "subset_cpes <- select(dataset_cpes,\n",
    "                      dataset_name,\n",
    "                      sex, age,\n",
    "                      stroke, prob_psychosis, \n",
    "                      paranoia, hearvoices, thoughtpass,\n",
    "                      highest_ed)\n",
    "subset_ensm <- select(dataset_ensm,\n",
    "                      dataset_name,\n",
    "                      sex, age,\n",
    "                      stroke, prob_psychosis, \n",
    "                      paranoia, hearvoices, thoughtpass,\n",
    "                      highest_ed)\n",
    "subset_ensc <- select(dataset_ensc,\n",
    "                      dataset_name,\n",
    "                      sex, age,\n",
    "                      stroke, prob_psychosis, \n",
    "                      paranoia, hearvoices, thoughtpass,\n",
    "                      highest_ed)\n",
    "\n",
    "# ...and combine into one combined countries dataset\n",
    "#\n",
    "dataset_combined <- rbind(subset_apms, subset_cpes)\n",
    "dataset_combined <- rbind(dataset_combined, subset_ensm)\n",
    "dataset_combined <- rbind(dataset_combined, subset_ensc)\n",
    "\n",
    "# Remove intermediary memory objects\n",
    "#\n",
    "rm(subset_apms, subset_ensm, subset_cpes, subset_ensc)"
   ]
  },
  {
   "cell_type": "markdown",
   "metadata": {},
   "source": [
    "## Functions to calculate prevalences"
   ]
  },
  {
   "cell_type": "markdown",
   "metadata": {},
   "source": [
    "#### Calculate stroke prevalence in total population"
   ]
  },
  {
   "cell_type": "code",
   "execution_count": 8,
   "metadata": {},
   "outputs": [],
   "source": [
    "calc_stroke_prevalence <- function(prev_df) {\n",
    "  # How many people have stroke in the total population?\n",
    "  tbobj <- as.numeric(table(prev_df$stroke))\n",
    "  nstrokecases <- tbobj[1]; npopulation <- sum(tbobj)\n",
    "  prev_matrix <- as.matrix(cbind(nstrokecases, npopulation))\n",
    "  \n",
    "  # Calculate prevalence\n",
    "  prev_est <- epi.conf(prev_matrix, ctype = \"prevalence\", method = \"exact\", N = nrow(prev_df), design = 1, \n",
    "                       conf.level = 0.95) * 100\n",
    "  est_plus_95CI <- sprintf(\"%.2f%% (%.2f - %.2f)\", prev_est$est, prev_est$lower, prev_est$upper)\n",
    "  est_plus_95CI\n",
    "}"
   ]
  },
  {
   "cell_type": "markdown",
   "metadata": {},
   "source": [
    "#### Calculate probable psychosis prevalence in total population"
   ]
  },
  {
   "cell_type": "code",
   "execution_count": 9,
   "metadata": {},
   "outputs": [],
   "source": [
    "calc_probpsychosis_prevalence <- function(prev_df) {\n",
    "  # How many people have probable psychosis in the total population?\n",
    "  tbobj <- as.numeric(table(prev_df$prob_psychosis))\n",
    "  nprobpsychosiscases <- tbobj[1]; npopulation <- sum(tbobj)\n",
    "  prev_matrix <- as.matrix(cbind(nprobpsychosiscases, npopulation))\n",
    "  \n",
    "  # Calculate prevalence\n",
    "  prev_est <- epi.conf(prev_matrix, ctype = \"prevalence\", method = \"exact\", N = nrow(prev_df), design = 1, \n",
    "                       conf.level = 0.95) * 100\n",
    "  est_plus_95CI <- sprintf(\"%.2f%% (%.2f - %.2f)\", prev_est$est, prev_est$lower, prev_est$upper)\n",
    "  est_plus_95CI\n",
    "}"
   ]
  },
  {
   "cell_type": "markdown",
   "metadata": {},
   "source": [
    "#### Calculate prevalence of probable psychosis in stroke population"
   ]
  },
  {
   "cell_type": "code",
   "execution_count": 10,
   "metadata": {},
   "outputs": [],
   "source": [
    "calc_probpsychosis_in_stroke_prevalence <- function(prev_df) {\n",
    "  # How many people have stroke?\n",
    "  stroke_table <- as.numeric(table(prev_df$stroke))\n",
    "  stroke_pop <- stroke_table[1]\n",
    "  \n",
    "  # How many people who have stroke have psychosis?\n",
    "  stroke_psychosis_table <- as.numeric(table(prev_df$stroke, prev_df$prob_psychosis))\n",
    "  psychosis_in_stroke_cases <- stroke_psychosis_table[1]\n",
    "  prev_matrix <- as.matrix(cbind(psychosis_in_stroke_cases, stroke_pop))\n",
    "  \n",
    "  # Calculate prevalence\n",
    "  prev_est <- epi.conf(prev_matrix, ctype = \"prevalence\", method = \"exact\", N = nrow(prev_df), design = 1, \n",
    "                       conf.level = 0.95) * 100\n",
    "  prev_est\n",
    "  est_plus_95CI <- sprintf(\"%.2f%% (%.2f - %.2f)\", prev_est$est, prev_est$lower, prev_est$upper)\n",
    "  est_plus_95CI\n",
    "}"
   ]
  },
  {
   "cell_type": "markdown",
   "metadata": {},
   "source": [
    "#### Calculate prevalence of stroke in probable psychosis population"
   ]
  },
  {
   "cell_type": "code",
   "execution_count": 11,
   "metadata": {},
   "outputs": [],
   "source": [
    "calc_stroke_in_probpsychosis_prevalence <- function(prev_df) {\n",
    "  # How many people have probable psychosis?\n",
    "  psychosis_table <- as.numeric(table(prev_df$prob_psychosis))\n",
    "  psychosis_pop <- psychosis_table[1]\n",
    "  \n",
    "  # How many people who have probable psychosis have stroke?\n",
    "  psychosis_stroke_table <- as.numeric(table(prev_df$prob_psychosis, prev_df$stroke))\n",
    "  stroke_in_psychosis_cases <- psychosis_stroke_table[1]\n",
    "  prev_matrix <- as.matrix(cbind(stroke_in_psychosis_cases, psychosis_pop))\n",
    "  \n",
    "  # Calculate prevalence\n",
    "  prev_est <- epi.conf(prev_matrix, ctype = \"prevalence\", method = \"exact\", N = nrow(prev_df), design = 1, \n",
    "                       conf.level = 0.95) * 100\n",
    "  prev_est\n",
    "  est_plus_95CI <- sprintf(\"%.2f%% (%.2f - %.2f)\", prev_est$est, prev_est$lower, prev_est$upper)\n",
    "  est_plus_95CI\n",
    "}"
   ]
  },
  {
   "cell_type": "markdown",
   "metadata": {},
   "source": [
    "## Functions to run regression models"
   ]
  },
  {
   "cell_type": "markdown",
   "metadata": {},
   "source": [
    "#### Regression models testing unadjusted and adjusted associations between stroke and probable psychosis in national datasets"
   ]
  },
  {
   "cell_type": "code",
   "execution_count": 12,
   "metadata": {},
   "outputs": [],
   "source": [
    "run_prob_psychosis_models <- function(funcdf) {\n",
    "  # Unadjusted\n",
    "  test_model <- glm(prob_psychosis ~ stroke, data = funcdf, family = binomial(link = \"logit\"), maxit=500)\n",
    "  summ_of_model <- summ(test_model, exp = TRUE, digits = 4)\n",
    "  un_prob_psychosis_OR_CIs <- sprintf(\"%.2f (%.2f - %.2f)\", summ_of_model$coeftable[2], summ_of_model$coeftable[4], summ_of_model$coeftable[6])\n",
    "\n",
    "  # Adjusted by sex, age, education\n",
    "  test_model <- glm(prob_psychosis ~ stroke + sex + age + highest_ed, data = funcdf, family = binomial(link = \"logit\"), maxit=500)\n",
    "  summ_of_model <- summ(test_model, exp = TRUE, digits = 4)\n",
    "  adj_ed_prob_psychosis_OR_CIs <- sprintf(\"%.2f (%.2f - %.2f)\", summ_of_model$coeftable[2], summ_of_model$coeftable[9], summ_of_model$coeftable[16])\n",
    "\n",
    "  prob_psychosis_results <- c(un_prob_psychosis_OR_CIs,\n",
    "                              adj_ed_prob_psychosis_OR_CIs)\n",
    "  prob_psychosis_results\n",
    "}"
   ]
  },
  {
   "cell_type": "markdown",
   "metadata": {},
   "source": [
    "#### Multi-level regression models testing unadjusted and adjusted associations between stroke and probable psychosis in combined countries dataset"
   ]
  },
  {
   "cell_type": "code",
   "execution_count": 13,
   "metadata": {},
   "outputs": [],
   "source": [
    "run_prob_psychosis_combined_model <- function(funcdf) {\n",
    "  # Unadjusted\n",
    "  test_model <- glmer(prob_psychosis ~ stroke + (1|dataset_name),\n",
    "                      data = dataset_combined,\n",
    "                      family = binomial(link = \"logit\"),\n",
    "                      control = glmerControl(tolPwrss=1e-3))\n",
    "  test_model_CIs <- confint(test_model, parm=\"beta_\", method=\"Wald\")\n",
    "  test_model_table <- cbind(est=fixef(test_model),test_model_CIs)\n",
    "  test_model_table_OR <- exp(test_model_table)\n",
    "  un_prob_psychosis_OR_CIs <- sprintf(\"%.2f (%.2f - %.2f)\", test_model_table_OR[2], test_model_table_OR[4], test_model_table_OR[6])\n",
    "\n",
    "  # Adjusted by sex, age, education\n",
    "  test_model <- glmer(prob_psychosis ~ stroke + sex + age + highest_ed + (1|dataset_name),\n",
    "                      data = dataset_combined,\n",
    "                      family = binomial(link = \"logit\"),\n",
    "                      control = glmerControl(tolPwrss=1e-3))\n",
    "  test_model_CIs <- confint(test_model, parm=\"beta_\", method=\"Wald\")\n",
    "  test_model_table <- cbind(est=fixef(test_model),test_model_CIs)\n",
    "  test_model_table_OR <- exp(test_model_table)\n",
    "  adj_ed_prob_psychosis_OR_CIs <- sprintf(\"%.2f (%.2f - %.2f)\", test_model_table_OR[2], test_model_table_OR[9], test_model_table_OR[16])\n",
    "\n",
    "  prob_psychosis_combined_results <- c(un_prob_psychosis_OR_CIs,\n",
    "                                       adj_ed_prob_psychosis_OR_CIs)\n",
    "  prob_psychosis_combined_results\n",
    "}"
   ]
  },
  {
   "cell_type": "markdown",
   "metadata": {},
   "source": [
    "#### Regression models testing unadjusted and adjusted associations between stroke and paranoia in national datasets"
   ]
  },
  {
   "cell_type": "code",
   "execution_count": 14,
   "metadata": {},
   "outputs": [],
   "source": [
    "run_paranoia_models <- function(funcdf) {\n",
    "  # Unadjusted\n",
    "  test_model <- glm(paranoia ~ stroke, data = funcdf, family = binomial(link = \"logit\"))\n",
    "  summ_of_model <- summ(test_model, exp = TRUE, digits = 4)\n",
    "  un_paranoia_OR_CIs <- sprintf(\"%.2f (%.2f - %.2f)\", summ_of_model$coeftable[2], summ_of_model$coeftable[4], summ_of_model$coeftable[6])\n",
    "\n",
    "  # Adjusted by sex, age, education\n",
    "  test_model <- glm(paranoia ~ stroke + sex + age + highest_ed, data = funcdf, family = binomial(link = \"logit\"))\n",
    "  summ_of_model <- summ(test_model, exp = TRUE, digits = 4)\n",
    "  adj_ed_paranoia_OR_CIs <- sprintf(\"%.2f (%.2f - %.2f)\", summ_of_model$coeftable[2], summ_of_model$coeftable[9], summ_of_model$coeftable[16])\n",
    "\n",
    "  paranoia_results <- c(un_paranoia_OR_CIs,\n",
    "                           adj_ed_paranoia_OR_CIs)\n",
    "  paranoia_results\n",
    "}"
   ]
  },
  {
   "cell_type": "markdown",
   "metadata": {},
   "source": [
    "#### Multi-level regression models testing unadjusted and adjusted associations between stroke and paranoia in combined countries dataset"
   ]
  },
  {
   "cell_type": "code",
   "execution_count": 15,
   "metadata": {},
   "outputs": [],
   "source": [
    "run_paranoia_combined_model <- function(funcdf) {\n",
    "  # Unadjusted\n",
    "  test_model <- glmer(paranoia ~ stroke + (1|dataset_name),\n",
    "                      data = funcdf,\n",
    "                      family = binomial(link = \"logit\"),\n",
    "                      control = glmerControl(tolPwrss=1e-3))\n",
    "  test_model_CIs <- confint(test_model, parm=\"beta_\", method=\"Wald\")\n",
    "  test_model_table <- cbind(est=fixef(test_model),test_model_CIs)\n",
    "  test_model_table_OR <- exp(test_model_table)\n",
    "  un_paranoia_OR_CIs <- sprintf(\"%.2f (%.2f - %.2f)\", test_model_table_OR[2], test_model_table_OR[4], test_model_table_OR[6])\n",
    "\n",
    "  # Adjusted by sex, age, education\n",
    "  test_model <- glmer(paranoia ~ stroke + sex + age + highest_ed + (1|dataset_name),\n",
    "                      data = funcdf,\n",
    "                      family = binomial(link = \"logit\"),\n",
    "                      control = glmerControl(tolPwrss=1e-3))\n",
    "  test_model_CIs <- confint(test_model, parm=\"beta_\", method=\"Wald\")\n",
    "  test_model_table <- cbind(est=fixef(test_model),test_model_CIs)\n",
    "  test_model_table_OR <- exp(test_model_table)\n",
    "  adj_ed_paranoia_OR_CIs <- sprintf(\"%.2f (%.2f - %.2f)\", test_model_table_OR[2], test_model_table_OR[9], test_model_table_OR[16])\n",
    "\n",
    "  paranoia_combined_results <- c(un_paranoia_OR_CIs,\n",
    "                                    adj_ed_paranoia_OR_CIs)\n",
    "  paranoia_combined_results\n",
    "}"
   ]
  },
  {
   "cell_type": "markdown",
   "metadata": {},
   "source": [
    "#### Regression models testing unadjusted and adjusted association between stroke and hallucinated voices in national datasets"
   ]
  },
  {
   "cell_type": "code",
   "execution_count": 16,
   "metadata": {},
   "outputs": [],
   "source": [
    "run_hearvoices_models <- function(funcdf) {\n",
    "  # Unadjusted\n",
    "  test_model <- glm(hearvoices ~ stroke, data = funcdf, family = binomial(link = \"logit\"))\n",
    "  summ_of_model <- summ(test_model, exp = TRUE, digits = 4)\n",
    "  un_hearvoices_OR_CIs <- sprintf(\"%.2f (%.2f - %.2f)\", summ_of_model$coeftable[2], summ_of_model$coeftable[4], summ_of_model$coeftable[6])\n",
    "\n",
    "  # Adjusted by sex, age and education\n",
    "  test_model <- glm(hearvoices ~ stroke + sex + age + highest_ed, data = funcdf, family = binomial(link = \"logit\"))\n",
    "  summ_of_model <- summ(test_model, exp = TRUE, digits = 4)\n",
    "  adj_ed_hearvoices_OR_CIs <- sprintf(\"%.2f (%.2f - %.2f)\", summ_of_model$coeftable[2], summ_of_model$coeftable[9], summ_of_model$coeftable[16])\n",
    "\n",
    "  hearvoices_results <- c(un_hearvoices_OR_CIs,\n",
    "                          adj_ed_hearvoices_OR_CIs)\n",
    "  hearvoices_results\n",
    "}"
   ]
  },
  {
   "cell_type": "markdown",
   "metadata": {},
   "source": [
    "#### Multi-level regression models testing unadjusted and adjusted associations between stroke and paranoia in combined countries dataset"
   ]
  },
  {
   "cell_type": "code",
   "execution_count": 17,
   "metadata": {},
   "outputs": [],
   "source": [
    "run_hearvoices_combined_model <- function(funcdf) {\n",
    "  # Unadjusted\n",
    "  test_model <- glmer(hearvoices ~ stroke + (1|dataset_name),\n",
    "                      data = funcdf,\n",
    "                      family = binomial(link = \"logit\"),\n",
    "                      control = glmerControl(tolPwrss=1e-3))\n",
    "  test_model_CIs <- confint(test_model, parm=\"beta_\", method=\"Wald\")\n",
    "  test_model_table <- cbind(est=fixef(test_model),test_model_CIs)\n",
    "  test_model_table_OR <- exp(test_model_table)\n",
    "  un_hearvoices_OR_CIs <- sprintf(\"%.2f (%.2f - %.2f)\", test_model_table_OR[2], test_model_table_OR[4], test_model_table_OR[6])\n",
    "\n",
    "  # Adjusted by sex, age, education\n",
    "  test_model <- glmer(hearvoices ~ stroke + sex + age + highest_ed + (1|dataset_name),\n",
    "                      data = funcdf,\n",
    "                      family = binomial(link = \"logit\"),\n",
    "                      control = glmerControl(tolPwrss=1e-3))\n",
    "  test_model_CIs <- confint(test_model, parm=\"beta_\", method=\"Wald\")\n",
    "  test_model_table <- cbind(est=fixef(test_model),test_model_CIs)\n",
    "  test_model_table_OR <- exp(test_model_table)\n",
    "  adj_ed_hearvoices_OR_CIs <- sprintf(\"%.2f (%.2f - %.2f)\", test_model_table_OR[2], test_model_table_OR[9], test_model_table_OR[16])\n",
    "\n",
    "  hearvoices_combined_results <- c(un_hearvoices_OR_CIs,\n",
    "                                    adj_ed_hearvoices_OR_CIs)\n",
    "  hearvoices_combined_results\n",
    "}"
   ]
  },
  {
   "cell_type": "markdown",
   "metadata": {},
   "source": [
    "#### Regression models testing unadjusted and adjusted associations between stroke and thought passivity delusions in national datasets"
   ]
  },
  {
   "cell_type": "code",
   "execution_count": 18,
   "metadata": {},
   "outputs": [],
   "source": [
    "run_thoughtpass_models <- function(funcdf) {\n",
    "  # Unadjusted\n",
    "  test_model <- glm(thoughtpass ~ stroke, data = funcdf, family = binomial(link = \"logit\"))\n",
    "  summ_of_model <- summ(test_model, exp = TRUE, digits = 4)\n",
    "  un_thoughtpass_OR_CIs <- sprintf(\"%.2f (%.2f - %.2f)\", summ_of_model$coeftable[2], summ_of_model$coeftable[4], summ_of_model$coeftable[6])\n",
    "\n",
    "  # Adjusted by sex, age, education\n",
    "  test_model <- glm(thoughtpass ~ stroke + sex + age + highest_ed, data = funcdf, family = binomial(link = \"logit\"))\n",
    "  summ_of_model <- summ(test_model, exp = TRUE, digits = 4)\n",
    "  adj_ed_thoughtpass_OR_CIs <- sprintf(\"%.2f (%.2f - %.2f)\", summ_of_model$coeftable[2], summ_of_model$coeftable[9], summ_of_model$coeftable[16])\n",
    "\n",
    "  thoughtpass_results <- c(un_thoughtpass_OR_CIs,\n",
    "                           adj_ed_thoughtpass_OR_CIs)\n",
    "  thoughtpass_results\n",
    "}"
   ]
  },
  {
   "cell_type": "markdown",
   "metadata": {},
   "source": [
    "#### Multi-level regression models testing unadjusted and adjusted associations between stroke and thought passivity delusions in combined countries dataset"
   ]
  },
  {
   "cell_type": "code",
   "execution_count": 19,
   "metadata": {},
   "outputs": [],
   "source": [
    "run_thoughtpass_combined_model <- function(funcdf) {\n",
    "  # Unadjusted\n",
    "  test_model <- glmer(thoughtpass ~ stroke + (1|dataset_name),\n",
    "                      data = funcdf,\n",
    "                      family = binomial(link = \"logit\"),\n",
    "                      control = glmerControl(tolPwrss=1e-3))\n",
    "  test_model_CIs <- confint(test_model, parm=\"beta_\", method=\"Wald\")\n",
    "  test_model_table <- cbind(est=fixef(test_model),test_model_CIs)\n",
    "  test_model_table_OR <- exp(test_model_table)\n",
    "  un_thoughtpass_OR_CIs <- sprintf(\"%.2f (%.2f - %.2f)\", test_model_table_OR[2], test_model_table_OR[4], test_model_table_OR[6])\n",
    "\n",
    "  # Adjusted by sex, age, education\n",
    "  test_model <- glmer(thoughtpass ~ stroke + sex + age + highest_ed + (1|dataset_name),\n",
    "                      data = funcdf,\n",
    "                      family = binomial(link = \"logit\"),\n",
    "                      control = glmerControl(tolPwrss=1e-3))\n",
    "  test_model_CIs <- confint(test_model, parm=\"beta_\", method=\"Wald\")\n",
    "  test_model_table <- cbind(est=fixef(test_model),test_model_CIs)\n",
    "  test_model_table_OR <- exp(test_model_table)\n",
    "  adj_ed_thoughtpass_OR_CIs <- sprintf(\"%.2f (%.2f - %.2f)\", test_model_table_OR[2], test_model_table_OR[9], test_model_table_OR[16])\n",
    "\n",
    "  thoughtpass_combined_results <- c(un_thoughtpass_OR_CIs,\n",
    "                                   adj_ed_thoughtpass_OR_CIs)\n",
    "  thoughtpass_combined_results\n",
    "}"
   ]
  },
  {
   "cell_type": "markdown",
   "metadata": {},
   "source": [
    "## Results reported in paper"
   ]
  },
  {
   "cell_type": "markdown",
   "metadata": {},
   "source": [
    "### Descriptive statistics"
   ]
  },
  {
   "cell_type": "code",
   "execution_count": 20,
   "metadata": {},
   "outputs": [
    {
     "data": {
      "text/html": [
       "<table class=\"Rtable1\">\n",
       "<thead>\n",
       "<tr>\n",
       "<th class='rowlabel firstrow lastrow'></th>\n",
       "<th class='firstrow lastrow'><span class='stratlabel'>UK<br><span class='stratn'>(N=7403)</span></span></th>\n",
       "<th class='firstrow lastrow'><span class='stratlabel'>US<br><span class='stratn'>(N=6082)</span></span></th>\n",
       "<th class='firstrow lastrow'><span class='stratlabel'>Chile<br><span class='stratn'>(N=3403)</span></span></th>\n",
       "<th class='firstrow lastrow'><span class='stratlabel'>Colombia<br><span class='stratn'>(N=10870)</span></span></th>\n",
       "<th class='firstrow lastrow'><span class='stratlabel'>Total<br><span class='stratn'>(N=27758)</span></span></th>\n",
       "</tr>\n",
       "</thead>\n",
       "<tbody>\n",
       "<tr>\n",
       "<td class='rowlabel firstrow'><span class='varlabel'>Age</span></td>\n",
       "<td class='firstrow'></td>\n",
       "<td class='firstrow'></td>\n",
       "<td class='firstrow'></td>\n",
       "<td class='firstrow'></td>\n",
       "<td class='firstrow'></td>\n",
       "</tr>\n",
       "<tr>\n",
       "<td class='rowlabel'>Mean (SD)</td>\n",
       "<td>51.1 (18.6)</td>\n",
       "<td>41.5 (15.8)</td>\n",
       "<td>49.4 (17.9)</td>\n",
       "<td>43.4 (16.8)</td>\n",
       "<td>45.8 (17.7)</td>\n",
       "</tr>\n",
       "<tr>\n",
       "<td class='rowlabel lastrow'>Median [Min, Max]</td>\n",
       "<td class='lastrow'>50.0 [16.0, 95.0]</td>\n",
       "<td class='lastrow'>39.0 [18.0, 99.0]</td>\n",
       "<td class='lastrow'>50.0 [17.0, 98.0]</td>\n",
       "<td class='lastrow'>42.0 [18.0, 96.0]</td>\n",
       "<td class='lastrow'>44.0 [16.0, 99.0]</td>\n",
       "</tr>\n",
       "<tr>\n",
       "<td class='rowlabel firstrow'><span class='varlabel'>Sex</span></td>\n",
       "<td class='firstrow'></td>\n",
       "<td class='firstrow'></td>\n",
       "<td class='firstrow'></td>\n",
       "<td class='firstrow'></td>\n",
       "<td class='firstrow'></td>\n",
       "</tr>\n",
       "<tr>\n",
       "<td class='rowlabel'> male</td>\n",
       "<td>3197 (43.2%)</td>\n",
       "<td>2747 (45.2%)</td>\n",
       "<td>1226 (36.0%)</td>\n",
       "<td>4384 (40.3%)</td>\n",
       "<td>11554 (41.6%)</td>\n",
       "</tr>\n",
       "<tr>\n",
       "<td class='rowlabel lastrow'> female</td>\n",
       "<td class='lastrow'>4206 (56.8%)</td>\n",
       "<td class='lastrow'>3335 (54.8%)</td>\n",
       "<td class='lastrow'>2177 (64.0%)</td>\n",
       "<td class='lastrow'>6486 (59.7%)</td>\n",
       "<td class='lastrow'>16204 (58.4%)</td>\n",
       "</tr>\n",
       "<tr>\n",
       "<td class='rowlabel firstrow'><span class='varlabel'>Highest level of education</span></td>\n",
       "<td class='firstrow'></td>\n",
       "<td class='firstrow'></td>\n",
       "<td class='firstrow'></td>\n",
       "<td class='firstrow'></td>\n",
       "<td class='firstrow'></td>\n",
       "</tr>\n",
       "<tr>\n",
       "<td class='rowlabel'>No / primary education</td>\n",
       "<td>2278 (30.8%)</td>\n",
       "<td>540 (8.9%)</td>\n",
       "<td>766 (22.5%)</td>\n",
       "<td>4007 (36.9%)</td>\n",
       "<td>7591 (27.3%)</td>\n",
       "</tr>\n",
       "<tr>\n",
       "<td class='rowlabel'>Mid-teen high school</td>\n",
       "<td>2103 (28.4%)</td>\n",
       "<td>835 (13.7%)</td>\n",
       "<td>895 (26.3%)</td>\n",
       "<td>5152 (47.4%)</td>\n",
       "<td>8985 (32.4%)</td>\n",
       "</tr>\n",
       "<tr>\n",
       "<td class='rowlabel'>Late teen high school</td>\n",
       "<td>938 (12.7%)</td>\n",
       "<td>3604 (59.3%)</td>\n",
       "<td>1040 (30.6%)</td>\n",
       "<td>895 (8.2%)</td>\n",
       "<td>6477 (23.3%)</td>\n",
       "</tr>\n",
       "<tr>\n",
       "<td class='rowlabel'>College / university</td>\n",
       "<td>1916 (25.9%)</td>\n",
       "<td>1103 (18.1%)</td>\n",
       "<td>668 (19.6%)</td>\n",
       "<td>713 (6.6%)</td>\n",
       "<td>4400 (15.9%)</td>\n",
       "</tr>\n",
       "<tr>\n",
       "<td class='rowlabel lastrow'>Missing</td>\n",
       "<td class='lastrow'>168 (2.3%)</td>\n",
       "<td class='lastrow'>0 (0%)</td>\n",
       "<td class='lastrow'>34 (1.0%)</td>\n",
       "<td class='lastrow'>103 (0.9%)</td>\n",
       "<td class='lastrow'>305 (1.1%)</td>\n",
       "</tr>\n",
       "<tr>\n",
       "<td class='rowlabel firstrow'><span class='varlabel'>Stroke</span></td>\n",
       "<td class='firstrow'></td>\n",
       "<td class='firstrow'></td>\n",
       "<td class='firstrow'></td>\n",
       "<td class='firstrow'></td>\n",
       "<td class='firstrow'></td>\n",
       "</tr>\n",
       "<tr>\n",
       "<td class='rowlabel'> yes</td>\n",
       "<td>180 (2.4%)</td>\n",
       "<td>171 (2.8%)</td>\n",
       "<td>95 (2.8%)</td>\n",
       "<td>79 (0.7%)</td>\n",
       "<td>525 (1.9%)</td>\n",
       "</tr>\n",
       "<tr>\n",
       "<td class='rowlabel'> no</td>\n",
       "<td>7223 (97.6%)</td>\n",
       "<td>5724 (94.1%)</td>\n",
       "<td>3287 (96.6%)</td>\n",
       "<td>10791 (99.3%)</td>\n",
       "<td>27025 (97.4%)</td>\n",
       "</tr>\n",
       "<tr>\n",
       "<td class='rowlabel lastrow'>Missing</td>\n",
       "<td class='lastrow'>0 (0%)</td>\n",
       "<td class='lastrow'>187 (3.1%)</td>\n",
       "<td class='lastrow'>21 (0.6%)</td>\n",
       "<td class='lastrow'>0 (0%)</td>\n",
       "<td class='lastrow'>208 (0.7%)</td>\n",
       "</tr>\n",
       "<tr>\n",
       "<td class='rowlabel firstrow'><span class='varlabel'>Paranoia</span></td>\n",
       "<td class='firstrow'></td>\n",
       "<td class='firstrow'></td>\n",
       "<td class='firstrow'></td>\n",
       "<td class='firstrow'></td>\n",
       "<td class='firstrow'></td>\n",
       "</tr>\n",
       "<tr>\n",
       "<td class='rowlabel'> yes</td>\n",
       "<td>569 (7.7%)</td>\n",
       "<td>68 (1.1%)</td>\n",
       "<td>59 (1.7%)</td>\n",
       "<td>2340 (21.5%)</td>\n",
       "<td>3036 (10.9%)</td>\n",
       "</tr>\n",
       "<tr>\n",
       "<td class='rowlabel'> no</td>\n",
       "<td>6834 (92.3%)</td>\n",
       "<td>4926 (81.0%)</td>\n",
       "<td>3304 (97.1%)</td>\n",
       "<td>8530 (78.5%)</td>\n",
       "<td>23594 (85.0%)</td>\n",
       "</tr>\n",
       "<tr>\n",
       "<td class='rowlabel lastrow'>Missing</td>\n",
       "<td class='lastrow'>0 (0%)</td>\n",
       "<td class='lastrow'>1088 (17.9%)</td>\n",
       "<td class='lastrow'>40 (1.2%)</td>\n",
       "<td class='lastrow'>0 (0%)</td>\n",
       "<td class='lastrow'>1128 (4.1%)</td>\n",
       "</tr>\n",
       "<tr>\n",
       "<td class='rowlabel firstrow'><span class='varlabel'>Hallucinated voices</span></td>\n",
       "<td class='firstrow'></td>\n",
       "<td class='firstrow'></td>\n",
       "<td class='firstrow'></td>\n",
       "<td class='firstrow'></td>\n",
       "<td class='firstrow'></td>\n",
       "</tr>\n",
       "<tr>\n",
       "<td class='rowlabel'> yes</td>\n",
       "<td>68 (0.9%)</td>\n",
       "<td>293 (4.8%)</td>\n",
       "<td>152 (4.5%)</td>\n",
       "<td>362 (3.3%)</td>\n",
       "<td>875 (3.2%)</td>\n",
       "</tr>\n",
       "<tr>\n",
       "<td class='rowlabel'> no</td>\n",
       "<td>7335 (99.1%)</td>\n",
       "<td>4702 (77.3%)</td>\n",
       "<td>3211 (94.4%)</td>\n",
       "<td>10508 (96.7%)</td>\n",
       "<td>25756 (92.8%)</td>\n",
       "</tr>\n",
       "<tr>\n",
       "<td class='rowlabel lastrow'>Missing</td>\n",
       "<td class='lastrow'>0 (0%)</td>\n",
       "<td class='lastrow'>1087 (17.9%)</td>\n",
       "<td class='lastrow'>40 (1.2%)</td>\n",
       "<td class='lastrow'>0 (0%)</td>\n",
       "<td class='lastrow'>1127 (4.1%)</td>\n",
       "</tr>\n",
       "<tr>\n",
       "<td class='rowlabel firstrow'><span class='varlabel'>Passivity delusion</span></td>\n",
       "<td class='firstrow'></td>\n",
       "<td class='firstrow'></td>\n",
       "<td class='firstrow'></td>\n",
       "<td class='firstrow'></td>\n",
       "<td class='firstrow'></td>\n",
       "</tr>\n",
       "<tr>\n",
       "<td class='rowlabel'> yes</td>\n",
       "<td>77 (1.0%)</td>\n",
       "<td>33 (0.5%)</td>\n",
       "<td>18 (0.5%)</td>\n",
       "<td>534 (4.9%)</td>\n",
       "<td>662 (2.4%)</td>\n",
       "</tr>\n",
       "<tr>\n",
       "<td class='rowlabel'> no</td>\n",
       "<td>7326 (99.0%)</td>\n",
       "<td>4962 (81.6%)</td>\n",
       "<td>3345 (98.3%)</td>\n",
       "<td>10336 (95.1%)</td>\n",
       "<td>25969 (93.6%)</td>\n",
       "</tr>\n",
       "<tr>\n",
       "<td class='rowlabel lastrow'>Missing</td>\n",
       "<td class='lastrow'>0 (0%)</td>\n",
       "<td class='lastrow'>1087 (17.9%)</td>\n",
       "<td class='lastrow'>40 (1.2%)</td>\n",
       "<td class='lastrow'>0 (0%)</td>\n",
       "<td class='lastrow'>1127 (4.1%)</td>\n",
       "</tr>\n",
       "<tr>\n",
       "<td class='rowlabel firstrow'><span class='varlabel'>Probable Psychosis</span></td>\n",
       "<td class='firstrow'></td>\n",
       "<td class='firstrow'></td>\n",
       "<td class='firstrow'></td>\n",
       "<td class='firstrow'></td>\n",
       "<td class='firstrow'></td>\n",
       "</tr>\n",
       "<tr>\n",
       "<td class='rowlabel'> yes</td>\n",
       "<td>66 (0.9%)</td>\n",
       "<td>36 (0.6%)</td>\n",
       "<td>27 (0.8%)</td>\n",
       "<td>505 (4.6%)</td>\n",
       "<td>634 (2.3%)</td>\n",
       "</tr>\n",
       "<tr>\n",
       "<td class='rowlabel lastrow'> no</td>\n",
       "<td class='lastrow'>7337 (99.1%)</td>\n",
       "<td class='lastrow'>6046 (99.4%)</td>\n",
       "<td class='lastrow'>3376 (99.2%)</td>\n",
       "<td class='lastrow'>10365 (95.4%)</td>\n",
       "<td class='lastrow'>27124 (97.7%)</td>\n",
       "</tr>\n",
       "</tbody>\n",
       "</table>\n"
      ]
     },
     "metadata": {},
     "output_type": "display_data"
    }
   ],
   "source": [
    "dataset_combined$dataset_name <- factor(dataset_combined$dataset_name,\n",
    "                          levels = c(\"apms\", \"cpes\", \"ensc\", \"ensm\"),\n",
    "                          labels = c(\"UK\", \"US\", \"Chile\", \"Colombia\")) \n",
    "\n",
    "# Relabel\n",
    "label(dataset_combined$sex) <- \"Sex\"\n",
    "label(dataset_combined$age) <- \"Age\"\n",
    "label(dataset_combined$highest_ed) <- \"Highest level of education\"\n",
    "label(dataset_combined$paranoia) <- \"Paranoia\"\n",
    "label(dataset_combined$hearvoices) <- \"Hallucinated voices\"\n",
    "label(dataset_combined$thoughtpass) <- \"Passivity delusion\"\n",
    "label(dataset_combined$prob_psychosis) <- \"Probable Psychosis\"\n",
    "label(dataset_combined$stroke) <- \"Stroke\"\n",
    "\n",
    "# Display table with descriptive statistics including missing values for unaltered data\n",
    "display_html(table1(~ age + sex + highest_ed + stroke + paranoia + hearvoices + thoughtpass + prob_psychosis | dataset_name,\n",
    "        data=dataset_combined, overall=\"Total\"))"
   ]
  },
  {
   "cell_type": "markdown",
   "metadata": {},
   "source": [
    "#### Insert results of missing data imputation for CPES dataset"
   ]
  },
  {
   "cell_type": "code",
   "execution_count": 21,
   "metadata": {},
   "outputs": [],
   "source": [
    "# As the missing data imputation did not impute any new symptoms for cases in the CPES dataset\n",
    "# and replaced all NAs as symptom not present (see CPESVariableImputationCheck.R),\n",
    "# we replace all NAs with \" no\" in this dataset\n",
    "\n",
    "dataset_cpes$paranoia[is.na(dataset_cpes$paranoia)] <- \" no\"\n",
    "dataset_cpes$hearvoices[is.na(dataset_cpes$hearvoices)] <- \" no\"\n",
    "dataset_cpes$thoughtpass[is.na(dataset_cpes$thoughtpass)] <- \" no\"\n",
    "\n",
    "#... and recombine the datasets\n",
    "subset_apms <- select(dataset_apms,\n",
    "                      dataset_name,\n",
    "                      sex, age,\n",
    "                      stroke, prob_psychosis, \n",
    "                      paranoia, hearvoices, thoughtpass,\n",
    "                      highest_ed)\n",
    "subset_cpes <- select(dataset_cpes,\n",
    "                      dataset_name,\n",
    "                      sex, age,\n",
    "                      stroke, prob_psychosis, \n",
    "                      paranoia, hearvoices, thoughtpass,\n",
    "                      highest_ed)\n",
    "subset_ensm <- select(dataset_ensm,\n",
    "                      dataset_name,\n",
    "                      sex, age,\n",
    "                      stroke, prob_psychosis, \n",
    "                      paranoia, hearvoices, thoughtpass,\n",
    "                      highest_ed)\n",
    "subset_ensc <- select(dataset_ensc,\n",
    "                      dataset_name,\n",
    "                      sex, age,\n",
    "                      stroke, prob_psychosis, \n",
    "                      paranoia, hearvoices, thoughtpass,\n",
    "                      highest_ed)\n",
    "\n",
    "# ...and combine into one combined countries dataset\n",
    "#\n",
    "dataset_combined <- rbind(subset_apms, subset_cpes)\n",
    "dataset_combined <- rbind(dataset_combined, subset_ensm)\n",
    "dataset_combined <- rbind(dataset_combined, subset_ensc)\n",
    "\n",
    "# Remove intermediary memory objects\n",
    "#\n",
    "rm(subset_apms, subset_ensm, subset_cpes, subset_ensc)"
   ]
  },
  {
   "cell_type": "markdown",
   "metadata": {},
   "source": [
    "### Prevalence results"
   ]
  },
  {
   "cell_type": "markdown",
   "metadata": {},
   "source": [
    "#### Calculate prevalence results"
   ]
  },
  {
   "cell_type": "code",
   "execution_count": 22,
   "metadata": {},
   "outputs": [],
   "source": [
    "# Stroke prevalence\n",
    "#\n",
    "strok_prev_vector <- c()\n",
    "strok_prev_vector <- c(strok_prev_vector, calc_stroke_prevalence(dataset_apms))\n",
    "strok_prev_vector <- c(strok_prev_vector, calc_stroke_prevalence(dataset_cpes))\n",
    "strok_prev_vector <- c(strok_prev_vector, calc_stroke_prevalence(dataset_ensm))\n",
    "strok_prev_vector <- c(strok_prev_vector, calc_stroke_prevalence(dataset_ensc))\n",
    "strok_prev_vector <- c(strok_prev_vector, calc_stroke_prevalence(dataset_combined))\n",
    "\n",
    "# Probable psychosis prevalence\n",
    "#\n",
    "probpsych_prev_vector <- c()\n",
    "probpsych_prev_vector <- c(probpsych_prev_vector, calc_probpsychosis_prevalence(dataset_apms))\n",
    "probpsych_prev_vector <- c(probpsych_prev_vector, calc_probpsychosis_prevalence(dataset_cpes))\n",
    "probpsych_prev_vector <- c(probpsych_prev_vector, calc_probpsychosis_prevalence(dataset_ensm))\n",
    "probpsych_prev_vector <- c(probpsych_prev_vector, calc_probpsychosis_prevalence(dataset_ensc))\n",
    "probpsych_prev_vector <- c(probpsych_prev_vector, calc_probpsychosis_prevalence(dataset_combined))\n",
    "\n",
    "# Probable psychosis in stroke prevalence\n",
    "#\n",
    "probpsych_in_stroke_prev_vector <- c()\n",
    "probpsych_in_stroke_prev_vector <- c(probpsych_in_stroke_prev_vector, calc_probpsychosis_in_stroke_prevalence(dataset_apms))\n",
    "probpsych_in_stroke_prev_vector <- c(probpsych_in_stroke_prev_vector, calc_probpsychosis_in_stroke_prevalence(dataset_cpes))\n",
    "probpsych_in_stroke_prev_vector <- c(probpsych_in_stroke_prev_vector, calc_probpsychosis_in_stroke_prevalence(dataset_ensm))\n",
    "probpsych_in_stroke_prev_vector <- c(probpsych_in_stroke_prev_vector, calc_probpsychosis_in_stroke_prevalence(dataset_ensc))\n",
    "probpsych_in_stroke_prev_vector <- c(probpsych_in_stroke_prev_vector, calc_probpsychosis_in_stroke_prevalence(dataset_combined))\n",
    "\n",
    "# Stroke in probable psychosis prevalence\n",
    "#\n",
    "stroke_in_probpsychosis_prev_vector <- c()\n",
    "stroke_in_probpsychosis_prev_vector <- c(stroke_in_probpsychosis_prev_vector, calc_stroke_in_probpsychosis_prevalence(dataset_apms))\n",
    "stroke_in_probpsychosis_prev_vector <- c(stroke_in_probpsychosis_prev_vector, calc_stroke_in_probpsychosis_prevalence(dataset_cpes))\n",
    "stroke_in_probpsychosis_prev_vector <- c(stroke_in_probpsychosis_prev_vector, calc_stroke_in_probpsychosis_prevalence(dataset_ensm))\n",
    "stroke_in_probpsychosis_prev_vector <- c(stroke_in_probpsychosis_prev_vector, calc_stroke_in_probpsychosis_prevalence(dataset_ensc))\n",
    "stroke_in_probpsychosis_prev_vector <- c(stroke_in_probpsychosis_prev_vector, calc_stroke_in_probpsychosis_prevalence(dataset_combined))"
   ]
  },
  {
   "cell_type": "markdown",
   "metadata": {},
   "source": [
    "#### Display results in table"
   ]
  },
  {
   "cell_type": "code",
   "execution_count": 23,
   "metadata": {},
   "outputs": [
    {
     "data": {
      "text/html": [
       "<table>\n",
       "<caption>A data.frame: 5 × 5</caption>\n",
       "<thead>\n",
       "\t<tr><th scope=col>Country</th><th scope=col>Stroke.Prevalence</th><th scope=col>Prob.Psychosis.Prevalence</th><th scope=col>Prob.Psychosis.in.Stroke.Prevalence</th><th scope=col>Stroke.in.Prob.Psychosis.Prevalence</th></tr>\n",
       "\t<tr><th scope=col>&lt;chr&gt;</th><th scope=col>&lt;chr&gt;</th><th scope=col>&lt;chr&gt;</th><th scope=col>&lt;chr&gt;</th><th scope=col>&lt;chr&gt;</th></tr>\n",
       "</thead>\n",
       "<tbody>\n",
       "\t<tr><td>UK      </td><td>2.43% (2.09 - 2.81)</td><td>0.89% (0.69 - 1.13)</td><td>1.11% (0.13 - 3.96)  </td><td>3.03% (0.37 - 10.52) </td></tr>\n",
       "\t<tr><td>US      </td><td>2.90% (2.49 - 3.36)</td><td>0.59% (0.41 - 0.82)</td><td>3.51% (1.30 - 7.48)  </td><td>16.67% (6.37 - 32.81)</td></tr>\n",
       "\t<tr><td>Colombia</td><td>0.73% (0.58 - 0.90)</td><td>4.65% (4.26 - 5.06)</td><td>13.92% (7.16 - 23.55)</td><td>2.18% (1.09 - 3.86)  </td></tr>\n",
       "\t<tr><td>Chile   </td><td>2.81% (2.28 - 3.42)</td><td>0.79% (0.52 - 1.15)</td><td>1.05% (0.03 - 5.73)  </td><td>3.70% (0.09 - 18.97) </td></tr>\n",
       "\t<tr><td>Combined</td><td>1.91% (1.75 - 2.07)</td><td>2.28% (2.11 - 2.47)</td><td>3.81% (2.34 - 5.82)  </td><td>3.15% (1.94 - 4.83)  </td></tr>\n",
       "</tbody>\n",
       "</table>\n"
      ],
      "text/latex": [
       "A data.frame: 5 × 5\n",
       "\\begin{tabular}{lllll}\n",
       " Country & Stroke.Prevalence & Prob.Psychosis.Prevalence & Prob.Psychosis.in.Stroke.Prevalence & Stroke.in.Prob.Psychosis.Prevalence\\\\\n",
       " <chr> & <chr> & <chr> & <chr> & <chr>\\\\\n",
       "\\hline\n",
       "\t UK       & 2.43\\% (2.09 - 2.81) & 0.89\\% (0.69 - 1.13) & 1.11\\% (0.13 - 3.96)   & 3.03\\% (0.37 - 10.52) \\\\\n",
       "\t US       & 2.90\\% (2.49 - 3.36) & 0.59\\% (0.41 - 0.82) & 3.51\\% (1.30 - 7.48)   & 16.67\\% (6.37 - 32.81)\\\\\n",
       "\t Colombia & 0.73\\% (0.58 - 0.90) & 4.65\\% (4.26 - 5.06) & 13.92\\% (7.16 - 23.55) & 2.18\\% (1.09 - 3.86)  \\\\\n",
       "\t Chile    & 2.81\\% (2.28 - 3.42) & 0.79\\% (0.52 - 1.15) & 1.05\\% (0.03 - 5.73)   & 3.70\\% (0.09 - 18.97) \\\\\n",
       "\t Combined & 1.91\\% (1.75 - 2.07) & 2.28\\% (2.11 - 2.47) & 3.81\\% (2.34 - 5.82)   & 3.15\\% (1.94 - 4.83)  \\\\\n",
       "\\end{tabular}\n"
      ],
      "text/markdown": [
       "\n",
       "A data.frame: 5 × 5\n",
       "\n",
       "| Country &lt;chr&gt; | Stroke.Prevalence &lt;chr&gt; | Prob.Psychosis.Prevalence &lt;chr&gt; | Prob.Psychosis.in.Stroke.Prevalence &lt;chr&gt; | Stroke.in.Prob.Psychosis.Prevalence &lt;chr&gt; |\n",
       "|---|---|---|---|---|\n",
       "| UK       | 2.43% (2.09 - 2.81) | 0.89% (0.69 - 1.13) | 1.11% (0.13 - 3.96)   | 3.03% (0.37 - 10.52)  |\n",
       "| US       | 2.90% (2.49 - 3.36) | 0.59% (0.41 - 0.82) | 3.51% (1.30 - 7.48)   | 16.67% (6.37 - 32.81) |\n",
       "| Colombia | 0.73% (0.58 - 0.90) | 4.65% (4.26 - 5.06) | 13.92% (7.16 - 23.55) | 2.18% (1.09 - 3.86)   |\n",
       "| Chile    | 2.81% (2.28 - 3.42) | 0.79% (0.52 - 1.15) | 1.05% (0.03 - 5.73)   | 3.70% (0.09 - 18.97)  |\n",
       "| Combined | 1.91% (1.75 - 2.07) | 2.28% (2.11 - 2.47) | 3.81% (2.34 - 5.82)   | 3.15% (1.94 - 4.83)   |\n",
       "\n"
      ],
      "text/plain": [
       "  Country  Stroke.Prevalence   Prob.Psychosis.Prevalence\n",
       "1 UK       2.43% (2.09 - 2.81) 0.89% (0.69 - 1.13)      \n",
       "2 US       2.90% (2.49 - 3.36) 0.59% (0.41 - 0.82)      \n",
       "3 Colombia 0.73% (0.58 - 0.90) 4.65% (4.26 - 5.06)      \n",
       "4 Chile    2.81% (2.28 - 3.42) 0.79% (0.52 - 1.15)      \n",
       "5 Combined 1.91% (1.75 - 2.07) 2.28% (2.11 - 2.47)      \n",
       "  Prob.Psychosis.in.Stroke.Prevalence Stroke.in.Prob.Psychosis.Prevalence\n",
       "1 1.11% (0.13 - 3.96)                 3.03% (0.37 - 10.52)               \n",
       "2 3.51% (1.30 - 7.48)                 16.67% (6.37 - 32.81)              \n",
       "3 13.92% (7.16 - 23.55)               2.18% (1.09 - 3.86)                \n",
       "4 1.05% (0.03 - 5.73)                 3.70% (0.09 - 18.97)               \n",
       "5 3.81% (2.34 - 5.82)                 3.15% (1.94 - 4.83)                "
      ]
     },
     "metadata": {},
     "output_type": "display_data"
    }
   ],
   "source": [
    "# Display in table\n",
    "#\n",
    "name_vec <- c(\"UK\", \"US\", \"Colombia\", \"Chile\", \"Combined\")\n",
    "prevalence_table_df <- data.frame(Country = name_vec, \n",
    "                                  \"Stroke Prevalence\" = strok_prev_vector,\n",
    "                                  \"Prob Psychosis Prevalence\" = probpsych_prev_vector,\n",
    "                                  \"Prob Psychosis in Stroke Prevalence\" = probpsych_in_stroke_prev_vector,\n",
    "                                  \"Stroke in Prob Psychosis Prevalence\" = stroke_in_probpsychosis_prev_vector)\n",
    "prevalence_table_df"
   ]
  },
  {
   "cell_type": "markdown",
   "metadata": {},
   "source": [
    "### Analysis of directed acyclic graph of major causal relationships between stroke and psychosis"
   ]
  },
  {
   "cell_type": "markdown",
   "metadata": {},
   "source": [
    "Download graph from dagitty.net and display"
   ]
  },
  {
   "cell_type": "code",
   "execution_count": 43,
   "metadata": {},
   "outputs": [
    {
     "data": {
      "image/png": "[encoded data removed]",
      "text/plain": [
       "plot without title"
      ]
     },
     "metadata": {
      "image/png": {
       "height": 420,
       "width": 420
      }
     },
     "output_type": "display_data"
    }
   ],
   "source": [
    "library(dagitty)\n",
    "\n",
    "g <- downloadGraph(\"dagitty.net/mWB5lCB\")\n",
    "\n",
    "plot(g)"
   ]
  },
  {
   "cell_type": "markdown",
   "metadata": {},
   "source": [
    "Test whether there total effect can be estimated by covariate adjustment"
   ]
  },
  {
   "cell_type": "code",
   "execution_count": 44,
   "metadata": {},
   "outputs": [],
   "source": [
    "adjustmentSets(g, \"Stroke\", \"Psychosis\")"
   ]
  },
  {
   "cell_type": "markdown",
   "metadata": {},
   "source": [
    "No output, so this reports there are no minimal sets of variates that will acheive this"
   ]
  },
  {
   "cell_type": "markdown",
   "metadata": {},
   "source": [
    "### Regression results reporting associations between stroke and probable psychosis, and stroke and psychotic symptoms"
   ]
  },
  {
   "cell_type": "markdown",
   "metadata": {},
   "source": [
    "#### Unadjusted and adjusted associations between stroke and probable psychosis"
   ]
  },
  {
   "cell_type": "code",
   "execution_count": 26,
   "metadata": {},
   "outputs": [],
   "source": [
    "# Calculate probable psychosis results from regression models\n",
    "#\n",
    "uk_results <- run_prob_psychosis_models(dataset_apms)\n",
    "us_results <- run_prob_psychosis_models(dataset_cpes) \n",
    "colombia_results <- run_prob_psychosis_models(dataset_ensm) \n",
    "chile_results <- run_prob_psychosis_models(dataset_ensc)\n",
    "combined_results <- run_prob_psychosis_combined_model(dataset_combined)"
   ]
  },
  {
   "cell_type": "code",
   "execution_count": 27,
   "metadata": {},
   "outputs": [
    {
     "data": {
      "text/html": [
       "<table>\n",
       "<caption>A data.frame: 5 × 2</caption>\n",
       "<thead>\n",
       "\t<tr><th></th><th scope=col>Unadjusted</th><th scope=col>Adjusted</th></tr>\n",
       "\t<tr><th></th><th scope=col>&lt;chr&gt;</th><th scope=col>&lt;chr&gt;</th></tr>\n",
       "</thead>\n",
       "<tbody>\n",
       "\t<tr><th scope=row>UK</th><td>1.26 (0.31 - 5.17) </td><td>1.11 (0.15 - 8.26) </td></tr>\n",
       "\t<tr><th scope=row>US</th><td>6.90 (2.83 - 16.81)</td><td>6.22 (2.52 - 15.35)</td></tr>\n",
       "\t<tr><th scope=row>Colombia</th><td>3.37 (1.77 - 6.42) </td><td>4.04 (2.10 - 7.78) </td></tr>\n",
       "\t<tr><th scope=row>Chile</th><td>1.33 (0.18 - 9.94) </td><td>1.33 (0.18 - 10.09)</td></tr>\n",
       "\t<tr><th scope=row>Combined</th><td>3.06 (1.93 - 4.85) </td><td>3.32 (2.05 - 5.38) </td></tr>\n",
       "</tbody>\n",
       "</table>\n"
      ],
      "text/latex": [
       "A data.frame: 5 × 2\n",
       "\\begin{tabular}{r|ll}\n",
       "  & Unadjusted & Adjusted\\\\\n",
       "  & <chr> & <chr>\\\\\n",
       "\\hline\n",
       "\tUK & 1.26 (0.31 - 5.17)  & 1.11 (0.15 - 8.26) \\\\\n",
       "\tUS & 6.90 (2.83 - 16.81) & 6.22 (2.52 - 15.35)\\\\\n",
       "\tColombia & 3.37 (1.77 - 6.42)  & 4.04 (2.10 - 7.78) \\\\\n",
       "\tChile & 1.33 (0.18 - 9.94)  & 1.33 (0.18 - 10.09)\\\\\n",
       "\tCombined & 3.06 (1.93 - 4.85)  & 3.32 (2.05 - 5.38) \\\\\n",
       "\\end{tabular}\n"
      ],
      "text/markdown": [
       "\n",
       "A data.frame: 5 × 2\n",
       "\n",
       "| <!--/--> | Unadjusted &lt;chr&gt; | Adjusted &lt;chr&gt; |\n",
       "|---|---|---|\n",
       "| UK | 1.26 (0.31 - 5.17)  | 1.11 (0.15 - 8.26)  |\n",
       "| US | 6.90 (2.83 - 16.81) | 6.22 (2.52 - 15.35) |\n",
       "| Colombia | 3.37 (1.77 - 6.42)  | 4.04 (2.10 - 7.78)  |\n",
       "| Chile | 1.33 (0.18 - 9.94)  | 1.33 (0.18 - 10.09) |\n",
       "| Combined | 3.06 (1.93 - 4.85)  | 3.32 (2.05 - 5.38)  |\n",
       "\n"
      ],
      "text/plain": [
       "         Unadjusted          Adjusted           \n",
       "UK       1.26 (0.31 - 5.17)  1.11 (0.15 - 8.26) \n",
       "US       6.90 (2.83 - 16.81) 6.22 (2.52 - 15.35)\n",
       "Colombia 3.37 (1.77 - 6.42)  4.04 (2.10 - 7.78) \n",
       "Chile    1.33 (0.18 - 9.94)  1.33 (0.18 - 10.09)\n",
       "Combined 3.06 (1.93 - 4.85)  3.32 (2.05 - 5.38) "
      ]
     },
     "metadata": {},
     "output_type": "display_data"
    }
   ],
   "source": [
    "# Collate results into table and display\n",
    "#\n",
    "probpsychosis_regression_table_df <- data.frame(\"Unadjusted\" = character(), \"Adjusted\" = character())\n",
    "probpsychosis_regression_table_df[nrow(probpsychosis_regression_table_df)+1,] <- uk_results\n",
    "probpsychosis_regression_table_df[nrow(probpsychosis_regression_table_df)+1,] <- us_results\n",
    "probpsychosis_regression_table_df[nrow(probpsychosis_regression_table_df)+1,] <- colombia_results\n",
    "probpsychosis_regression_table_df[nrow(probpsychosis_regression_table_df)+1,] <- chile_results\n",
    "probpsychosis_regression_table_df[nrow(probpsychosis_regression_table_df)+1,] <- combined_results\n",
    "\n",
    "rownames(probpsychosis_regression_table_df) <- name_vec\n",
    "probpsychosis_regression_table_df"
   ]
  },
  {
   "cell_type": "markdown",
   "metadata": {},
   "source": [
    "#### Unadjusted and adjusted associations between stroke and paranoia"
   ]
  },
  {
   "cell_type": "code",
   "execution_count": 28,
   "metadata": {},
   "outputs": [],
   "source": [
    "# Calculate paranoia results from regression models\n",
    "#\n",
    "uk_results <- run_paranoia_models(dataset_apms)\n",
    "us_results <- run_paranoia_models(dataset_cpes)\n",
    "colombia_results <- run_paranoia_models(dataset_ensm)\n",
    "chile_results <- run_paranoia_models(dataset_ensc)\n",
    "combined_results <- run_paranoia_combined_model(dataset_combined)"
   ]
  },
  {
   "cell_type": "code",
   "execution_count": 29,
   "metadata": {},
   "outputs": [
    {
     "data": {
      "text/html": [
       "<table>\n",
       "<caption>A data.frame: 5 × 2</caption>\n",
       "<thead>\n",
       "\t<tr><th></th><th scope=col>Unadjusted</th><th scope=col>Adjusted</th></tr>\n",
       "\t<tr><th></th><th scope=col>&lt;chr&gt;</th><th scope=col>&lt;chr&gt;</th></tr>\n",
       "</thead>\n",
       "<tbody>\n",
       "\t<tr><th scope=row>UK</th><td>0.63 (0.32 - 1.23)</td><td>0.99 (0.46 - 2.16)</td></tr>\n",
       "\t<tr><th scope=row>US</th><td>2.71 (1.07 - 6.82)</td><td>2.50 (0.99 - 6.34)</td></tr>\n",
       "\t<tr><th scope=row>Colombia</th><td>2.01 (1.27 - 3.20)</td><td>2.34 (1.46 - 3.74)</td></tr>\n",
       "\t<tr><th scope=row>Chile</th><td>1.92 (0.59 - 6.26)</td><td>1.71 (0.52 - 5.66)</td></tr>\n",
       "\t<tr><th scope=row>Combined</th><td>1.38 (1.00 - 1.90)</td><td>1.66 (1.19 - 2.32)</td></tr>\n",
       "</tbody>\n",
       "</table>\n"
      ],
      "text/latex": [
       "A data.frame: 5 × 2\n",
       "\\begin{tabular}{r|ll}\n",
       "  & Unadjusted & Adjusted\\\\\n",
       "  & <chr> & <chr>\\\\\n",
       "\\hline\n",
       "\tUK & 0.63 (0.32 - 1.23) & 0.99 (0.46 - 2.16)\\\\\n",
       "\tUS & 2.71 (1.07 - 6.82) & 2.50 (0.99 - 6.34)\\\\\n",
       "\tColombia & 2.01 (1.27 - 3.20) & 2.34 (1.46 - 3.74)\\\\\n",
       "\tChile & 1.92 (0.59 - 6.26) & 1.71 (0.52 - 5.66)\\\\\n",
       "\tCombined & 1.38 (1.00 - 1.90) & 1.66 (1.19 - 2.32)\\\\\n",
       "\\end{tabular}\n"
      ],
      "text/markdown": [
       "\n",
       "A data.frame: 5 × 2\n",
       "\n",
       "| <!--/--> | Unadjusted &lt;chr&gt; | Adjusted &lt;chr&gt; |\n",
       "|---|---|---|\n",
       "| UK | 0.63 (0.32 - 1.23) | 0.99 (0.46 - 2.16) |\n",
       "| US | 2.71 (1.07 - 6.82) | 2.50 (0.99 - 6.34) |\n",
       "| Colombia | 2.01 (1.27 - 3.20) | 2.34 (1.46 - 3.74) |\n",
       "| Chile | 1.92 (0.59 - 6.26) | 1.71 (0.52 - 5.66) |\n",
       "| Combined | 1.38 (1.00 - 1.90) | 1.66 (1.19 - 2.32) |\n",
       "\n"
      ],
      "text/plain": [
       "         Unadjusted         Adjusted          \n",
       "UK       0.63 (0.32 - 1.23) 0.99 (0.46 - 2.16)\n",
       "US       2.71 (1.07 - 6.82) 2.50 (0.99 - 6.34)\n",
       "Colombia 2.01 (1.27 - 3.20) 2.34 (1.46 - 3.74)\n",
       "Chile    1.92 (0.59 - 6.26) 1.71 (0.52 - 5.66)\n",
       "Combined 1.38 (1.00 - 1.90) 1.66 (1.19 - 2.32)"
      ]
     },
     "metadata": {},
     "output_type": "display_data"
    }
   ],
   "source": [
    "# Collate results into table and display\n",
    "#\n",
    "paranoia_regression_table_df <- data.frame(\"Unadjusted\" = character(), \"Adjusted\" = character())\n",
    "paranoia_regression_table_df[nrow(paranoia_regression_table_df)+1,] <- uk_results\n",
    "paranoia_regression_table_df[nrow(paranoia_regression_table_df)+1,] <- us_results\n",
    "paranoia_regression_table_df[nrow(paranoia_regression_table_df)+1,] <- colombia_results\n",
    "paranoia_regression_table_df[nrow(paranoia_regression_table_df)+1,] <- chile_results\n",
    "paranoia_regression_table_df[nrow(paranoia_regression_table_df)+1,] <- combined_results\n",
    "\n",
    "rownames(paranoia_regression_table_df) <- name_vec\n",
    "paranoia_regression_table_df"
   ]
  },
  {
   "cell_type": "markdown",
   "metadata": {},
   "source": [
    "#### Unadjusted and adjusted associations between stroke and hallucinated voices"
   ]
  },
  {
   "cell_type": "code",
   "execution_count": 30,
   "metadata": {},
   "outputs": [],
   "source": [
    "# Calculate hallucinated voices from regression models\n",
    "#\n",
    "uk_results <- run_hearvoices_models(dataset_apms)\n",
    "us_results <- run_hearvoices_models(dataset_cpes)\n",
    "colombia_results <- run_hearvoices_models(dataset_ensm)\n",
    "chile_results <- run_hearvoices_models(dataset_ensc)\n",
    "combined_results <- run_hearvoices_combined_model(dataset_combined)"
   ]
  },
  {
   "cell_type": "code",
   "execution_count": 31,
   "metadata": {},
   "outputs": [
    {
     "data": {
      "text/html": [
       "<table>\n",
       "<caption>A data.frame: 5 × 2</caption>\n",
       "<thead>\n",
       "\t<tr><th></th><th scope=col>Unadjusted</th><th scope=col>Adjusted</th></tr>\n",
       "\t<tr><th></th><th scope=col>&lt;chr&gt;</th><th scope=col>&lt;chr&gt;</th></tr>\n",
       "</thead>\n",
       "<tbody>\n",
       "\t<tr><th scope=row>UK</th><td>0.60 (0.08 - 4.32)</td><td>0.85 (0.11 - 6.29)</td></tr>\n",
       "\t<tr><th scope=row>US</th><td>2.33 (1.41 - 3.86)</td><td>2.03 (1.22 - 3.38)</td></tr>\n",
       "\t<tr><th scope=row>Colombia</th><td>4.30 (2.20 - 8.41)</td><td>4.06 (2.05 - 8.03)</td></tr>\n",
       "\t<tr><th scope=row>Chile</th><td>0.71 (0.22 - 2.26)</td><td>0.71 (0.22 - 2.29)</td></tr>\n",
       "\t<tr><th scope=row>Combined</th><td>2.01 (1.39 - 2.90)</td><td>1.89 (1.30 - 2.74)</td></tr>\n",
       "</tbody>\n",
       "</table>\n"
      ],
      "text/latex": [
       "A data.frame: 5 × 2\n",
       "\\begin{tabular}{r|ll}\n",
       "  & Unadjusted & Adjusted\\\\\n",
       "  & <chr> & <chr>\\\\\n",
       "\\hline\n",
       "\tUK & 0.60 (0.08 - 4.32) & 0.85 (0.11 - 6.29)\\\\\n",
       "\tUS & 2.33 (1.41 - 3.86) & 2.03 (1.22 - 3.38)\\\\\n",
       "\tColombia & 4.30 (2.20 - 8.41) & 4.06 (2.05 - 8.03)\\\\\n",
       "\tChile & 0.71 (0.22 - 2.26) & 0.71 (0.22 - 2.29)\\\\\n",
       "\tCombined & 2.01 (1.39 - 2.90) & 1.89 (1.30 - 2.74)\\\\\n",
       "\\end{tabular}\n"
      ],
      "text/markdown": [
       "\n",
       "A data.frame: 5 × 2\n",
       "\n",
       "| <!--/--> | Unadjusted &lt;chr&gt; | Adjusted &lt;chr&gt; |\n",
       "|---|---|---|\n",
       "| UK | 0.60 (0.08 - 4.32) | 0.85 (0.11 - 6.29) |\n",
       "| US | 2.33 (1.41 - 3.86) | 2.03 (1.22 - 3.38) |\n",
       "| Colombia | 4.30 (2.20 - 8.41) | 4.06 (2.05 - 8.03) |\n",
       "| Chile | 0.71 (0.22 - 2.26) | 0.71 (0.22 - 2.29) |\n",
       "| Combined | 2.01 (1.39 - 2.90) | 1.89 (1.30 - 2.74) |\n",
       "\n"
      ],
      "text/plain": [
       "         Unadjusted         Adjusted          \n",
       "UK       0.60 (0.08 - 4.32) 0.85 (0.11 - 6.29)\n",
       "US       2.33 (1.41 - 3.86) 2.03 (1.22 - 3.38)\n",
       "Colombia 4.30 (2.20 - 8.41) 4.06 (2.05 - 8.03)\n",
       "Chile    0.71 (0.22 - 2.26) 0.71 (0.22 - 2.29)\n",
       "Combined 2.01 (1.39 - 2.90) 1.89 (1.30 - 2.74)"
      ]
     },
     "metadata": {},
     "output_type": "display_data"
    }
   ],
   "source": [
    "# Collate results into table and display\n",
    "#\n",
    "hearvoices_regression_table_df <- data.frame(\"Unadjusted\" = character(), \"Adjusted\" = character())\n",
    "hearvoices_regression_table_df[nrow(hearvoices_regression_table_df)+1,] <- uk_results\n",
    "hearvoices_regression_table_df[nrow(hearvoices_regression_table_df)+1,] <- us_results\n",
    "hearvoices_regression_table_df[nrow(hearvoices_regression_table_df)+1,] <- colombia_results\n",
    "hearvoices_regression_table_df[nrow(hearvoices_regression_table_df)+1,] <- chile_results\n",
    "hearvoices_regression_table_df[nrow(hearvoices_regression_table_df)+1,] <- combined_results\n",
    "\n",
    "rownames(hearvoices_regression_table_df) <- name_vec\n",
    "hearvoices_regression_table_df"
   ]
  },
  {
   "cell_type": "markdown",
   "metadata": {},
   "source": [
    "####  Unadjusted and adjusted associations between stroke and thought passivity delusions"
   ]
  },
  {
   "cell_type": "code",
   "execution_count": 32,
   "metadata": {},
   "outputs": [],
   "source": [
    "# Calculate thought passivity delusions results from regression models\n",
    "#\n",
    "uk_results <- run_thoughtpass_models(dataset_apms)\n",
    "us_results <- run_thoughtpass_models(dataset_cpes)\n",
    "colombia_results <- run_thoughtpass_models(dataset_ensm)\n",
    "chile_results <- run_thoughtpass_models(dataset_ensc)\n",
    "combined_results <- run_thoughtpass_combined_model(dataset_combined)"
   ]
  },
  {
   "cell_type": "code",
   "execution_count": 33,
   "metadata": {},
   "outputs": [
    {
     "data": {
      "text/html": [
       "<table>\n",
       "<caption>A data.frame: 5 × 2</caption>\n",
       "<thead>\n",
       "\t<tr><th></th><th scope=col>Unadjusted</th><th scope=col>Adjusted</th></tr>\n",
       "\t<tr><th></th><th scope=col>&lt;chr&gt;</th><th scope=col>&lt;chr&gt;</th></tr>\n",
       "</thead>\n",
       "<tbody>\n",
       "\t<tr><th scope=row>UK</th><td>1.07 (0.26 - 4.40) </td><td>0.67 (0.09 - 4.94) </td></tr>\n",
       "\t<tr><th scope=row>US</th><td>2.17 (0.52 - 9.16) </td><td>2.12 (0.50 - 9.00) </td></tr>\n",
       "\t<tr><th scope=row>Colombia</th><td>3.52 (1.89 - 6.55) </td><td>4.27 (2.27 - 8.03) </td></tr>\n",
       "\t<tr><th scope=row>Chile</th><td>2.09 (0.28 - 15.87)</td><td>2.17 (0.28 - 16.95)</td></tr>\n",
       "\t<tr><th scope=row>Combined</th><td>2.51 (1.52 - 4.14) </td><td>2.68 (1.59 - 4.52) </td></tr>\n",
       "</tbody>\n",
       "</table>\n"
      ],
      "text/latex": [
       "A data.frame: 5 × 2\n",
       "\\begin{tabular}{r|ll}\n",
       "  & Unadjusted & Adjusted\\\\\n",
       "  & <chr> & <chr>\\\\\n",
       "\\hline\n",
       "\tUK & 1.07 (0.26 - 4.40)  & 0.67 (0.09 - 4.94) \\\\\n",
       "\tUS & 2.17 (0.52 - 9.16)  & 2.12 (0.50 - 9.00) \\\\\n",
       "\tColombia & 3.52 (1.89 - 6.55)  & 4.27 (2.27 - 8.03) \\\\\n",
       "\tChile & 2.09 (0.28 - 15.87) & 2.17 (0.28 - 16.95)\\\\\n",
       "\tCombined & 2.51 (1.52 - 4.14)  & 2.68 (1.59 - 4.52) \\\\\n",
       "\\end{tabular}\n"
      ],
      "text/markdown": [
       "\n",
       "A data.frame: 5 × 2\n",
       "\n",
       "| <!--/--> | Unadjusted &lt;chr&gt; | Adjusted &lt;chr&gt; |\n",
       "|---|---|---|\n",
       "| UK | 1.07 (0.26 - 4.40)  | 0.67 (0.09 - 4.94)  |\n",
       "| US | 2.17 (0.52 - 9.16)  | 2.12 (0.50 - 9.00)  |\n",
       "| Colombia | 3.52 (1.89 - 6.55)  | 4.27 (2.27 - 8.03)  |\n",
       "| Chile | 2.09 (0.28 - 15.87) | 2.17 (0.28 - 16.95) |\n",
       "| Combined | 2.51 (1.52 - 4.14)  | 2.68 (1.59 - 4.52)  |\n",
       "\n"
      ],
      "text/plain": [
       "         Unadjusted          Adjusted           \n",
       "UK       1.07 (0.26 - 4.40)  0.67 (0.09 - 4.94) \n",
       "US       2.17 (0.52 - 9.16)  2.12 (0.50 - 9.00) \n",
       "Colombia 3.52 (1.89 - 6.55)  4.27 (2.27 - 8.03) \n",
       "Chile    2.09 (0.28 - 15.87) 2.17 (0.28 - 16.95)\n",
       "Combined 2.51 (1.52 - 4.14)  2.68 (1.59 - 4.52) "
      ]
     },
     "metadata": {},
     "output_type": "display_data"
    }
   ],
   "source": [
    "# Collate results into table and display\n",
    "#\n",
    "thoughtpass_regression_table_df <- data.frame(\"Unadjusted\" = character(), \"Adjusted\" = character())\n",
    "thoughtpass_regression_table_df[nrow(thoughtpass_regression_table_df)+1,] <- uk_results\n",
    "thoughtpass_regression_table_df[nrow(thoughtpass_regression_table_df)+1,] <- us_results\n",
    "thoughtpass_regression_table_df[nrow(thoughtpass_regression_table_df)+1,] <- colombia_results\n",
    "thoughtpass_regression_table_df[nrow(thoughtpass_regression_table_df)+1,] <- chile_results\n",
    "thoughtpass_regression_table_df[nrow(thoughtpass_regression_table_df)+1,] <- combined_results\n",
    "\n",
    "rownames(thoughtpass_regression_table_df) <- name_vec\n",
    "thoughtpass_regression_table_df"
   ]
  },
  {
   "cell_type": "markdown",
   "metadata": {},
   "source": [
    "### Analysis platform details and software versions"
   ]
  },
  {
   "cell_type": "code",
   "execution_count": 34,
   "metadata": {},
   "outputs": [
    {
     "data": {
      "text/plain": [
       "               _                           \n",
       "platform       x86_64-pc-linux-gnu         \n",
       "arch           x86_64                      \n",
       "os             linux-gnu                   \n",
       "system         x86_64, linux-gnu           \n",
       "status                                     \n",
       "major          4                           \n",
       "minor          0.3                         \n",
       "year           2020                        \n",
       "month          10                          \n",
       "day            10                          \n",
       "svn rev        79318                       \n",
       "language       R                           \n",
       "version.string R version 4.0.3 (2020-10-10)\n",
       "nickname       Bunny-Wunnies Freak Out     "
      ]
     },
     "metadata": {},
     "output_type": "display_data"
    }
   ],
   "source": [
    "version"
   ]
  },
  {
   "cell_type": "code",
   "execution_count": 35,
   "metadata": {},
   "outputs": [
    {
     "data": {
      "text/plain": [
       "[1] ‘1.0.7’"
      ]
     },
     "metadata": {},
     "output_type": "display_data"
    }
   ],
   "source": [
    "packageVersion(\"dplyr\")"
   ]
  },
  {
   "cell_type": "code",
   "execution_count": 36,
   "metadata": {},
   "outputs": [
    {
     "data": {
      "text/plain": [
       "[1] ‘0.8.79’"
      ]
     },
     "metadata": {},
     "output_type": "display_data"
    }
   ],
   "source": [
    "packageVersion(\"foreign\")"
   ]
  },
  {
   "cell_type": "code",
   "execution_count": 37,
   "metadata": {},
   "outputs": [
    {
     "data": {
      "text/plain": [
       "[1] ‘1.2.1’"
      ]
     },
     "metadata": {},
     "output_type": "display_data"
    }
   ],
   "source": [
    "packageVersion(\"table1\")"
   ]
  },
  {
   "cell_type": "code",
   "execution_count": 38,
   "metadata": {},
   "outputs": [
    {
     "data": {
      "text/plain": [
       "[1] ‘2.1.2’"
      ]
     },
     "metadata": {},
     "output_type": "display_data"
    }
   ],
   "source": [
    "packageVersion(\"jtools\")"
   ]
  },
  {
   "cell_type": "code",
   "execution_count": 39,
   "metadata": {},
   "outputs": [
    {
     "data": {
      "text/plain": [
       "[1] ‘2.0.31’"
      ]
     },
     "metadata": {},
     "output_type": "display_data"
    }
   ],
   "source": [
    "packageVersion(\"epiR\")"
   ]
  },
  {
   "cell_type": "code",
   "execution_count": 40,
   "metadata": {},
   "outputs": [
    {
     "data": {
      "text/plain": [
       "[1] ‘1.1.26’"
      ]
     },
     "metadata": {},
     "output_type": "display_data"
    }
   ],
   "source": [
    "packageVersion(\"lme4\")"
   ]
  },
  {
   "cell_type": "code",
   "execution_count": 41,
   "metadata": {},
   "outputs": [
    {
     "data": {
      "text/plain": [
       "[1] ‘0.7.0’"
      ]
     },
     "metadata": {},
     "output_type": "display_data"
    }
   ],
   "source": [
    "packageVersion(\"IRdisplay\")"
   ]
  }
 ],
 "metadata": {
  "kernelspec": {
   "display_name": "R",
   "language": "R",
   "name": "ir"
  },
  "language_info": {
   "codemirror_mode": "r",
   "file_extension": ".r",
   "mimetype": "text/x-r-source",
   "name": "R",
   "pygments_lexer": "r",
   "version": "4.0.3"
  }
 },
 "nbformat": 4,
 "nbformat_minor": 4
}
